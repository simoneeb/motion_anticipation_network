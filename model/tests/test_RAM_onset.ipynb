{
 "cells": [
  {
   "cell_type": "code",
   "execution_count": 25,
   "metadata": {},
   "outputs": [],
   "source": [
    "import numpy as np\n",
    "import matplotlib.pyplot as plt\n",
    "import pandas as pd\n",
    "from scipy.interpolate import interp1d\n",
    "from scipy.ndimage import gaussian_filter\n",
    "import pickle\n",
    "from scipy.signal import convolve\n"
   ]
  },
  {
   "cell_type": "code",
   "execution_count": 26,
   "metadata": {},
   "outputs": [],
   "source": [
    "speeds = [0.27,0.81,1.62,3.24,0.1,0.2,0.4,0.5,0.6,0.7,0.8,0.9,1.0]\n",
    "speeds = [0.81]\n",
    "speeds = [0.27]\n"
   ]
  },
  {
   "attachments": {},
   "cell_type": "markdown",
   "metadata": {},
   "source": [
    "# load RAM  onset simulations fixed"
   ]
  },
  {
   "cell_type": "code",
   "execution_count": 27,
   "metadata": {},
   "outputs": [
    {
     "name": "stdout",
     "output_type": "stream",
     "text": [
      "0.27\n"
     ]
    }
   ],
   "source": [
    "#onset\n",
    "data = []\n",
    "cell = 150\n",
    "\n",
    "for s in speeds: \n",
    "    print(s)\n",
    "    fp = f'/user/sebert/home/Documents/Simulations/motion/anticipation_1D/Reciporcal/Reciporcal_mono_linear_plastic_opt/noGCGainControl/only_one_plastic/betaB/betaB_0.0/onset_{s}'\n",
    "    with open(f'{fp}/out', 'rb') as handle:\n",
    "        out = pickle.load(handle)    \n",
    "        \n",
    "    with open(f'{fp}/params', 'rb') as handle:\n",
    "        paramsi = pickle.load(handle)\n",
    "\n",
    "    duration = paramsi['duration']\n",
    "    dt = paramsi['dt']\n",
    "    #time = (np.arange(0,duration,dt)- params['tps_rf_GC_mid'][50])*1000\n",
    "    time = np.arange(0,duration,dt) - 1#+45\n",
    "    data.append([time,out['RG'][:]])\n",
    "\n",
    "    if s == 0.27:\n",
    "        outd = out\n"
   ]
  },
  {
   "cell_type": "code",
   "execution_count": 28,
   "metadata": {},
   "outputs": [
    {
     "name": "stdout",
     "output_type": "stream",
     "text": [
      "0.27\n"
     ]
    }
   ],
   "source": [
    "#smooth\n",
    "datas = []\n",
    "cell = 150\n",
    "\n",
    "for s in speeds: \n",
    "    print(s)\n",
    "    fp = f'/user/sebert/home/Documents/Simulations/motion/anticipation_1D/Reciporcal/Reciporcal_mono_linear_plastic_opt/noGCGainControl/only_one_plastic/betaB/betaB_0.0/smooth_{s}'\n",
    "    with open(f'{fp}/out', 'rb') as handle:\n",
    "        out = pickle.load(handle)    \n",
    "        \n",
    "    with open(f'{fp}/params', 'rb') as handle:\n",
    "        paramsi = pickle.load(handle)\n",
    "\n",
    "    duration = paramsi['duration']\n",
    "    dt = paramsi['dt']\n",
    "    #time = (np.arange(0,duration,dt)- params['tps_rf_GC_mid'][50])*1000\n",
    "    time = np.arange(0,duration,dt) - (paramsi['spacing']*cell)/paramsi['speed']#+45\n",
    "    datas.append([time,out['RG'][:]])\n",
    "\n",
    "    if s == 0.27:\n",
    "        outds = out\n"
   ]
  },
  {
   "cell_type": "markdown",
   "metadata": {},
   "source": [
    "# RAM plastic A"
   ]
  },
  {
   "cell_type": "code",
   "execution_count": 29,
   "metadata": {},
   "outputs": [
    {
     "name": "stdout",
     "output_type": "stream",
     "text": [
      "0.27\n"
     ]
    }
   ],
   "source": [
    "dataA = []\n",
    "cell = 150\n",
    "\n",
    "for s in speeds: \n",
    "    print(s)\n",
    "    fp = f'/user/sebert/home/Documents/Simulations/motion/anticipation_1D/Reciporcal/Reciporcal_mono_linear_plastic_opt/noGCGainControl/betaB/betaB_0.0/onset_{s}'\n",
    "    with open(f'{fp}/out', 'rb') as handle:\n",
    "        out = pickle.load(handle)    \n",
    "        \n",
    "    with open(f'{fp}/params', 'rb') as handle:\n",
    "        paramsi = pickle.load(handle)\n",
    "\n",
    "    duration = paramsi['duration']\n",
    "    dt = paramsi['dt']\n",
    "    #time = (np.arange(0,duration,dt)- params['tps_rf_GC_mid'][50])*1000\n",
    "    time = np.arange(0,duration,dt) - 1#+45\n",
    "    dataA.append([time,out['RG'][:]])\n",
    "\n",
    "    if s == 0.27:\n",
    "        outdA = out\n"
   ]
  },
  {
   "cell_type": "code",
   "execution_count": 30,
   "metadata": {},
   "outputs": [
    {
     "name": "stdout",
     "output_type": "stream",
     "text": [
      "0.27\n"
     ]
    }
   ],
   "source": [
    "dataAs = []\n",
    "cell = 150\n",
    "\n",
    "for s in speeds: \n",
    "    print(s)\n",
    "    fp = f'/user/sebert/home/Documents/Simulations/motion/anticipation_1D/Reciporcal/Reciporcal_mono_linear_plastic_opt/noGCGainControl/betaB/betaB_0.0/smooth_{s}'\n",
    "    with open(f'{fp}/out', 'rb') as handle:\n",
    "        out = pickle.load(handle)    \n",
    "        \n",
    "    with open(f'{fp}/params', 'rb') as handle:\n",
    "        paramsi = pickle.load(handle)\n",
    "\n",
    "    duration = paramsi['duration']\n",
    "    dt = paramsi['dt']\n",
    "    #time = (np.arange(0,duration,dt)- params['tps_rf_GC_mid'][50])*1000\n",
    "    time = np.arange(0,duration,dt) - (paramsi['spacing']*cell)/paramsi['speed']\n",
    "    dataAs.append([time,out['RG'][:]])\n",
    "\n",
    "    if s == 0.27:\n",
    "        outdAs = out\n"
   ]
  },
  {
   "cell_type": "markdown",
   "metadata": {},
   "source": [
    "# RAM plastic B"
   ]
  },
  {
   "cell_type": "code",
   "execution_count": 31,
   "metadata": {},
   "outputs": [
    {
     "name": "stdout",
     "output_type": "stream",
     "text": [
      "0.27\n"
     ]
    }
   ],
   "source": [
    "dataB = []\n",
    "cell = 150\n",
    "\n",
    "for s in speeds: \n",
    "    print(s)\n",
    "    fp = f'/user/sebert/home/Documents/Simulations/motion/anticipation_1D/Reciporcal/Reciporcal_mono_linear_plastic_opt/noGCGainControl/betaA/betaA_0.0/onset_{s}'\n",
    "    with open(f'{fp}/out', 'rb') as handle:\n",
    "        out = pickle.load(handle)    \n",
    "        \n",
    "    with open(f'{fp}/params', 'rb') as handle:\n",
    "        paramsi = pickle.load(handle)\n",
    "\n",
    "    duration = paramsi['duration']\n",
    "    dt = paramsi['dt']\n",
    "    #time = (np.arange(0,duration,dt)- params['tps_rf_GC_mid'][50])*1000\n",
    "    time = np.arange(0,duration,dt) - 1#+45\n",
    "    dataB.append([time,out['RG'][:]])\n",
    "\n",
    "    if s == 0.27:\n",
    "        outdB = out\n"
   ]
  },
  {
   "cell_type": "code",
   "execution_count": 32,
   "metadata": {},
   "outputs": [
    {
     "name": "stdout",
     "output_type": "stream",
     "text": [
      "0.27\n"
     ]
    }
   ],
   "source": [
    "dataBs = []\n",
    "cell = 150\n",
    "\n",
    "for s in speeds: \n",
    "    print(s)\n",
    "    fp = f'/user/sebert/home/Documents/Simulations/motion/anticipation_1D/Reciporcal/Reciporcal_mono_linear_plastic_opt/noGCGainControl/betaA/betaA_0.0/smooth_{s}'\n",
    "    with open(f'{fp}/out', 'rb') as handle:\n",
    "        out = pickle.load(handle)    \n",
    "        \n",
    "    with open(f'{fp}/params', 'rb') as handle:\n",
    "        paramsi = pickle.load(handle)\n",
    "\n",
    "    duration = paramsi['duration']\n",
    "    dt = paramsi['dt']\n",
    "    #time = (np.arange(0,duration,dt)- params['tps_rf_GC_mid'][50])*1000\n",
    "    time = np.arange(0,duration,dt) - (paramsi['spacing']*cell)/paramsi['speed']\n",
    "    dataBs.append([time,out['RG'][:]])\n",
    "\n",
    "    if s == 0.27:\n",
    "        outdBs = out\n"
   ]
  },
  {
   "cell_type": "markdown",
   "metadata": {},
   "source": [
    "# RAM plastic both"
   ]
  },
  {
   "cell_type": "code",
   "execution_count": 33,
   "metadata": {},
   "outputs": [
    {
     "name": "stdout",
     "output_type": "stream",
     "text": [
      "0.27\n"
     ]
    }
   ],
   "source": [
    "dataAB = []\n",
    "cell = 150\n",
    "\n",
    "for s in speeds: \n",
    "    print(s)\n",
    "    fp = f'/user/sebert/home/Documents/Simulations/motion/anticipation_1D/Reciporcal/Reciporcal_mono_linear_plastic_opt/noGCGainControl/betaA/betaA_0.03/onset_{s}'\n",
    "    with open(f'{fp}/out', 'rb') as handle:\n",
    "        out = pickle.load(handle)    \n",
    "        \n",
    "    with open(f'{fp}/params', 'rb') as handle:\n",
    "        paramsi = pickle.load(handle)\n",
    "\n",
    "    duration = paramsi['duration']\n",
    "    dt = paramsi['dt']\n",
    "    #time = (np.arange(0,duration,dt)- params['tps_rf_GC_mid'][50])*1000\n",
    "    time = np.arange(0,duration,dt) - 1#+45\n",
    "    dataAB.append([time,out['RG'][:]])\n",
    "\n",
    "    if s == 0.27:\n",
    "        outdAB = out\n"
   ]
  },
  {
   "cell_type": "code",
   "execution_count": 34,
   "metadata": {},
   "outputs": [
    {
     "name": "stdout",
     "output_type": "stream",
     "text": [
      "0.27\n"
     ]
    }
   ],
   "source": [
    "dataABs = []\n",
    "cell = 150\n",
    "\n",
    "for s in speeds: \n",
    "    print(s)\n",
    "    fp = f'/user/sebert/home/Documents/Simulations/motion/anticipation_1D/Reciporcal/Reciporcal_mono_linear_plastic_opt/noGCGainControl/betaA/betaA_0.03/smooth_{s}'\n",
    "    with open(f'{fp}/out', 'rb') as handle:\n",
    "        out = pickle.load(handle)    \n",
    "        \n",
    "    with open(f'{fp}/params', 'rb') as handle:\n",
    "        paramsi = pickle.load(handle)\n",
    "\n",
    "    duration = paramsi['duration']\n",
    "    dt = paramsi['dt']\n",
    "    #time = (np.arange(0,duration,dt)- params['tps_rf_GC_mid'][50])*1000\n",
    "    time = np.arange(0,duration,dt) - (paramsi['spacing']*cell)/paramsi['speed']\n",
    "    dataABs.append([time,out['RG'][:]])\n",
    "\n",
    "    if s == 0.27:\n",
    "        outdABs = out\n"
   ]
  },
  {
   "attachments": {},
   "cell_type": "markdown",
   "metadata": {},
   "source": [
    "# plot onset response of fixed RAM at different stages "
   ]
  },
  {
   "cell_type": "code",
   "execution_count": 35,
   "metadata": {},
   "outputs": [
    {
     "data": {
      "text/plain": [
       "Text(0.5, 0, 'time [s]')"
      ]
     },
     "execution_count": 35,
     "metadata": {},
     "output_type": "execute_result"
    },
    {
     "data": {
      "image/png": "[encoded data removed]",
      "text/plain": [
       "<Figure size 864x864 with 20 Axes>"
      ]
     },
     "metadata": {
      "needs_background": "light"
     },
     "output_type": "display_data"
    }
   ],
   "source": [
    "\n",
    "lw = 4\n",
    "c1 = 'green'\n",
    "c2 = 'red'\n",
    "c22 = 'grey'\n",
    "c3 = 'blue'\n",
    "\n",
    "\n",
    "fig,ax = plt.subplots(5,4,  figsize = (12,12), sharex = 'col', sharey = 'row')\n",
    "\n",
    "ax[0,0].set_title('RAM fixed', loc = 'left')\n",
    "ax[0,1].set_title('RAM plastic A', loc = 'left')\n",
    "ax[0,2].set_title('RAM plastic B', loc = 'left')\n",
    "ax[0,3].set_title('RAM plastic both', loc = 'left')\n",
    "\n",
    "\n",
    "\n",
    "\n",
    "\n",
    "ax[0,0].set_ylabel('$input$')\n",
    "ax[0,0].plot(datas[0][0],outds['inp'][:], color = c22, linewidth = lw)\n",
    "ax[0,0].plot(data[0][0],outd['inp'][:], color = c1, linewidth = lw)\n",
    "#ax[0,0].plot(data[0][0],outd['F'][:], color = c1, linewidth = lw)\n",
    "\n",
    "ax[1,0].set_ylabel('$V_{B}(t)$')\n",
    "ax[1,0].plot(datas[0][0],outds['VB'][50,:], color = c22, linewidth = lw)\n",
    "ax[1,0].plot(data[0][0],outd['VB'][50,:], color = c1, linewidth = lw)\n",
    "# for c in range(50):\n",
    "#     ax[1,0].plot(data[0][0],outd['VB'][c,:], color = 'k', linewidth = 1)\n",
    "\n",
    "ax[2,0].set_ylabel('$R_{B}(t)$')\n",
    "ax[2,0].plot(datas[0][0], outds['RB'][50,:], color = c22, linewidth = lw)\n",
    "ax[2,0].plot(data[0][0], outd['RB'][50,:], color = c1, linewidth = lw)\n",
    "\n",
    "\n",
    "ax[3,0].set_ylabel('$V_{G}(t)$')\n",
    "ax[3,0].plot(datas[0][0], outds['VG'][:], color = c22, linewidth = lw)\n",
    "ax[3,0].plot(data[0][0], outd['VG'][:], color = c1, linewidth = lw)\n",
    "\n",
    "ax[4,0].set_ylabel('$R_{G}(t)$')\n",
    "ax[4,0].plot(datas[0][0], outds['RG'][:], color = c22, linewidth = lw)\n",
    "ax[4,0].plot(data[0][0], outd['RG'][:], color = c1, linewidth = lw)\n",
    "\n",
    "\n",
    "\n",
    "ax[0,1].plot(dataA[0][0],outdA['inp'][:], color = c2, linewidth = lw)\n",
    "#ax[0,1].plot(dataA[0][0],outdA['F'][:], color = c2, linewidth = lw)\n",
    "\n",
    "ax[1,1].plot(dataA[0][0],outdA['VB'][50,:], color = c2, linewidth = lw)\n",
    "\n",
    "ax[2,1].plot(dataA[0][0], outdA['RB'][50,:], color = c2, linewidth = lw)\n",
    "\n",
    "ax[3,1].plot(dataA[0][0], outdA['VG'][:], color = c2, linewidth = lw)\n",
    "\n",
    "ax[4,1].plot(dataAs[0][0], outdAs['RG'][:], color = c22, linewidth = lw)\n",
    "ax[4,1].plot(dataA[0][0], outdA['RG'][:], color = c2, linewidth = lw)\n",
    "\n",
    "\n",
    "ax[0,2].plot(dataB[0][0],outdB['inp'][:], color = c3, linewidth = lw)\n",
    "#ax[0,2].plot(dataB[0][0],outdB['F'][:], color = c3, linewidth = lw)\n",
    "\n",
    "ax[1,2].plot(dataB[0][0],outdB['VB'][50,:], color = c3, linewidth = lw)\n",
    "\n",
    "ax[2,2].plot(dataB[0][0], outdB['RB'][50,:], color = c3, linewidth = lw)\n",
    "\n",
    "ax[3,2].plot(dataB[0][0], outdB['VG'][:], color = c3, linewidth = lw)\n",
    "\n",
    "ax[4,2].plot(dataBs[0][0], outdBs['RG'][:], color = c22, linewidth = lw)\n",
    "ax[4,2].plot(dataB[0][0], outdB['RG'][:], color = c3, linewidth = lw)\n",
    "\n",
    "\n",
    "\n",
    "ax[0,3].plot(dataAB[0][0],outdAB['inp'][:], color = c3, linewidth = lw)\n",
    "#ax[0,3].plot(dataAB[0][0],outdAB['F'][:], color = c3, linewidth = lw)\n",
    "\n",
    "ax[1,3].plot(dataAB[0][0],outdAB['VB'][50,:], color = c3, linewidth = lw)\n",
    "\n",
    "ax[2,3].plot(dataAB[0][0], outdAB['RB'][50,:], color = c3, linewidth = lw)\n",
    "\n",
    "ax[3,3].plot(dataAB[0][0], outdAB['VG'][:], color = c3, linewidth = lw)\n",
    "\n",
    "ax[4,3].plot(dataABs[0][0], outdABs['RG'][:], color = 'grey', linewidth = lw)\n",
    "ax[4,3].plot(dataAB[0][0], outdAB['RG'][:], color = c3, linewidth = lw)\n",
    "\n",
    "\n",
    "\n",
    "ax[0,1].axvline(0,linestyle = ':', color = 'k', linewidth =2 )\n",
    "ax[1,1].axvline(0,linestyle = ':', color = 'k', linewidth =2 )\n",
    "ax[2,1].axvline(0,linestyle = ':', color = 'k', linewidth =2 )\n",
    "ax[3,1].axvline(0,linestyle = ':', color = 'k', linewidth =2 )\n",
    "\n",
    "\n",
    "ax[0,0].axvline(0,linestyle = ':', color = 'k', linewidth =2 )\n",
    "ax[1,0].axvline(0,linestyle = ':', color = 'k', linewidth =2 )\n",
    "ax[2,0].axvline(0,linestyle = ':', color = 'k', linewidth =2 )\n",
    "ax[3,0].axvline(0,linestyle = ':', color = 'k', linewidth =2 )\n",
    "\n",
    "\n",
    "ax[-1,0].set_xlabel ('time [s]')\n",
    "ax[-1,1].set_xlabel ('time [s]')\n",
    "ax[-1,2].set_xlabel ('time [s]')\n",
    "# ax[-1,0].set_xlim(-500,500)\n",
    "# ax[-1,1].set_xlim(-500,500)"
   ]
  },
  {
   "cell_type": "code",
   "execution_count": null,
   "metadata": {},
   "outputs": [],
   "source": []
  }
 ],
 "metadata": {
  "kernelspec": {
   "display_name": "base",
   "language": "python",
   "name": "python3"
  },
  "language_info": {
   "codemirror_mode": {
    "name": "ipython",
    "version": 3
   },
   "file_extension": ".py",
   "mimetype": "text/x-python",
   "name": "python",
   "nbconvert_exporter": "python",
   "pygments_lexer": "ipython3",
   "version": "3.9.16"
  },
  "orig_nbformat": 4
 },
 "nbformat": 4,
 "nbformat_minor": 2
}
