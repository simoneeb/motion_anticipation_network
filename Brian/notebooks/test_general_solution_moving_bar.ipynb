{
 "cells": [
  {
   "cell_type": "code",
   "execution_count": 1,
   "id": "c4eaf899",
   "metadata": {},
   "outputs": [],
   "source": [
    "%load_ext autoreload\n",
    "%autoreload 2"
   ]
  },
  {
   "cell_type": "code",
   "execution_count": 53,
   "id": "11699a86-dc74-4929-80f2-ce3e0ae1a39d",
   "metadata": {
    "id": "11699a86-dc74-4929-80f2-ce3e0ae1a39d"
   },
   "outputs": [],
   "source": [
    "import numpy as np\n",
    "import matplotlib.pyplot as plt\n",
    "import multiprocessing\n",
    "import os\n",
    "import sys\n",
    "from scipy.ndimage import gaussian_filter1d\n",
    "from scipy.signal import convolve\n",
    "from brian2 import *"
   ]
  },
  {
   "cell_type": "code",
   "execution_count": 54,
   "id": "67314c2d",
   "metadata": {},
   "outputs": [],
   "source": [
    "sys.path.append(\"../lib\") # add code library to paths\n",
    "\n",
    "# add lib to path \n",
    "from model_beta import Model\n",
    "\n"
   ]
  },
  {
   "cell_type": "code",
   "execution_count": 55,
   "id": "24c667d2",
   "metadata": {},
   "outputs": [],
   "source": [
    "# TODO: turn this into  script"
   ]
  },
  {
   "cell_type": "code",
   "execution_count": 56,
   "id": "84111023",
   "metadata": {},
   "outputs": [
    {
     "name": "stdout",
     "output_type": "stream",
     "text": [
      "../output/recurrent_nn\n"
     ]
    }
   ],
   "source": [
    "netname = 'recurrent_nn'\n",
    "model = Model(netname)  # initiate the model\n"
   ]
  },
  {
   "cell_type": "code",
   "execution_count": 57,
   "id": "65b816f6",
   "metadata": {},
   "outputs": [],
   "source": [
    "params = {\n",
    "'sig_c' : 0.05  ,    # bipolar receptive fied size ~ 1/5 of the actual size [mm]\n",
    "'tau1' : 0.04   ,    # excitation time constant of the temporal filter [s]\n",
    "'tau2' : 0.0876 ,    # rebound time constant [s]\n",
    "'bifw' : 0.     ,    # relative weight of rebound/excitation [1]\n",
    "\n",
    "'scale_mV' : 20.,     # UPDATED \n",
    "\n",
    "'tauA' : 0.15   ,     # time constant of amacrine cells [s]\n",
    "'tauB' : 0.08   ,     # time constant of bipolar cells [s]\n",
    "'tauG' : 0.01   ,     # time contant of ganglion cells [s]\n",
    "\n",
    "'wAB' : 10.     ,     # synaptic weight from bipolar to amacrine [Hz]\n",
    "'wBA' : -10.    ,     # synaptic weight from amacrine to bipolar [Hz]\n",
    "'wGB' : 4.0     ,     # synaptic weight from bipolar to gangion  [Hz].   #UPDATED\n",
    "'wGA' : 0.      ,     # synaptic weight from amacrine  to gangion  [Hz]\n",
    "\n",
    "'slope' : 5     ,     # slope for ganglion cell recritifation [Hz/mV].   #UPDATED\n",
    "'threshold' : 0 ,     # threshold for ganglion cell recritifation [Hz/mV]\n",
    "'sig_pool' : 0.065 ,  # sigma for gaussian pooling in ganlion gells [mm]\n",
    "\n",
    "\n",
    "'spacing' : 0.005  ,  # spacing of cells on the lattice [mm]\n",
    "'dt' : 0.001      ,   # integration time step [s]\n",
    "'N' : 512          ,  # number of neurons in each layer [1]\n",
    "\n",
    "\n",
    "# idx = int(N/2)\n",
    "# b =  0.160         # half bar width [mm]\n",
    "# speed =  0.8       # speed [mm/s]  \n",
    "}\n"
   ]
  },
  {
   "cell_type": "code",
   "execution_count": 58,
   "id": "02f5027f",
   "metadata": {},
   "outputs": [],
   "source": [
    "\n",
    "# create connectivity matrix TODO write a class for this !!!\n",
    "\n",
    "C = np.zeros((params['N'],params['N']))\n",
    "ii = np.arange(0,params['N']-1,1).astype(int)  # list of source cells for rightward connections\n",
    "ji = ii + 1                          # target cells of rightward connections\n",
    "\n",
    "\n",
    "C[ii,ji] = 1\n",
    "\n",
    "ii = np.arange(1,params['N'],1).astype(int)    # list of source cells for leftward connections\n",
    "ji = ii - 1                         # target cells of leftward connections\n",
    "\n",
    "C[ii,ji] = 1\n"
   ]
  },
  {
   "cell_type": "code",
   "execution_count": 59,
   "id": "fcec5515",
   "metadata": {},
   "outputs": [],
   "source": [
    "\n",
    "model.set_params(params)\n",
    "model.set_connectivity(C)\n"
   ]
  },
  {
   "cell_type": "markdown",
   "id": "437f075a",
   "metadata": {},
   "source": [
    "# simulate response to global step full contrast"
   ]
  },
  {
   "cell_type": "code",
   "execution_count": 47,
   "id": "b14fcf72",
   "metadata": {},
   "outputs": [
    {
     "name": "stdout",
     "output_type": "stream",
     "text": [
      "(512, 3199) 2.56\n"
     ]
    }
   ],
   "source": [
    "\n",
    "# function to make bar stimulus\n",
    "def bar(t, x, b, v):\n",
    "\n",
    "    if x >=-b+v*t and x <=b+v*t :\n",
    "        return 1\n",
    "    else:\n",
    "        return 0\n",
    "\n",
    "\n",
    "speed = 0.8\n",
    "b = 0.16\n",
    "L = params['N']*params['spacing']\n",
    "dt = params['dt']\n",
    "dur = L/speed                 # duration of the simulation [s]\n",
    "tps = int(dur/params['dt'])             # number of time-points in the simulation [1]\n",
    "\n",
    "# # #enfroce tps to pe power of 2 \n",
    "# import math\n",
    "# # pow = np.floor(math.log2(tps))+1\n",
    "# # tps = int(2**pow)\n",
    "# # print(pow,tps)\n",
    "# pow = np.floor(math.log2(tps))\n",
    "# tps = int(2**pow)\n",
    "# dt = dur/tps\n",
    "\n",
    "\n",
    "time = np.arange(0,tps)*dt    # time array for the simulation 1xtps, in [s]\n",
    "\n",
    "\n",
    "# make bar stimulus\n",
    "barstim = np.zeros((params['N'],tps))\n",
    "\n",
    "for n in range(params['N']):\n",
    "    for ti in range(tps):\n",
    "        xi = n*params['spacing']\n",
    "        barstim[n,ti] = bar(ti*dt,xi,b,speed)\n",
    "\n",
    "\n",
    "S = barstim\n",
    "\n",
    "print(S.shape,L)"
   ]
  },
  {
   "cell_type": "code",
   "execution_count": 48,
   "id": "f9d13e0f-8b58-4eb1-bb2e-b257e7164071",
   "metadata": {
    "id": "f9d13e0f-8b58-4eb1-bb2e-b257e7164071"
   },
   "outputs": [
    {
     "name": "stdout",
     "output_type": "stream",
     "text": [
      "../output/recurrent_nn/bar_0.8\n",
      "3199\n"
     ]
    }
   ],
   "source": [
    "model.set_stimulus(S,f'bar_{speed}')\n",
    "model.simulate()"
   ]
  },
  {
   "cell_type": "code",
   "execution_count": 49,
   "id": "32af9993",
   "metadata": {},
   "outputs": [
    {
     "data": {
      "text/plain": [
       "<matplotlib.image.AxesImage at 0x301475590>"
      ]
     },
     "execution_count": 49,
     "metadata": {},
     "output_type": "execute_result"
    },
    {
     "data": {
      "image/png": "[encoded data removed]",
      "text/plain": [
       "<Figure size 640x480 with 1 Axes>"
      ]
     },
     "metadata": {},
     "output_type": "display_data"
    }
   ],
   "source": [
    "plt.imshow(S)"
   ]
  },
  {
   "cell_type": "code",
   "execution_count": 51,
   "id": "16b50943",
   "metadata": {},
   "outputs": [
    {
     "name": "stdout",
     "output_type": "stream",
     "text": [
      "25599\n",
      "(512, 25599)\n",
      "../output/recurrent_nn/bar_0.1\n",
      "25599\n",
      "12799\n",
      "(512, 12799)\n",
      "../output/recurrent_nn/bar_0.2\n",
      "12799\n",
      "8533\n",
      "(512, 8533)\n",
      "../output/recurrent_nn/bar_0.3\n",
      "8533\n",
      "6399\n",
      "(512, 6399)\n",
      "../output/recurrent_nn/bar_0.4\n",
      "6399\n",
      "5120\n",
      "(512, 5120)\n",
      "../output/recurrent_nn/bar_0.5\n",
      "5120\n",
      "4266\n",
      "(512, 4266)\n",
      "../output/recurrent_nn/bar_0.6\n",
      "4266\n",
      "3657\n",
      "(512, 3657)\n",
      "../output/recurrent_nn/bar_0.7\n",
      "3657\n",
      "3199\n",
      "(512, 3199)\n",
      "../output/recurrent_nn/bar_0.8\n",
      "3199\n",
      "2844\n",
      "(512, 2844)\n",
      "../output/recurrent_nn/bar_0.9\n",
      "2844\n",
      "2560\n",
      "(512, 2560)\n",
      "../output/recurrent_nn/bar_1.0\n",
      "2560\n"
     ]
    }
   ],
   "source": [
    "# loop over speeds \n",
    "speeds = np.round(np.arange(0.1,1.1,0.1),1)\n",
    "\n",
    "for s in speeds: \n",
    "    \n",
    "    dur = L/s                 # duration of the simulation [s]\n",
    "    tps = int(dur/params['dt'])             # number of time-points in the simulation [1]\n",
    "    print(tps)\n",
    "    # #enfroce tps to pe power of 2 \n",
    "    # import math\n",
    "    # # pow = np.floor(math.log2(tps))+1\n",
    "    # # tps = int(2**pow)\n",
    "    # # print(pow,tps)\n",
    "    # pow = np.floor(math.log2(tps))\n",
    "    # tps = int(2**pow)\n",
    "    # dt = dur/tps\n",
    "\n",
    "\n",
    "    time = np.arange(0,tps)*dt    # time array for the simulation 1xtps, in [s]\n",
    "\n",
    "\n",
    "    # make bar stimulus\n",
    "    barstim = np.zeros((params['N'],tps))\n",
    "\n",
    "    for n in range(params['N']):\n",
    "        for ti in range(tps):\n",
    "            xi = n*params['spacing']\n",
    "            barstim[n,ti] = bar(ti*dt,xi,b,s)\n",
    "\n",
    "    S = barstim\n",
    "    print(S.shape)\n",
    "    stimname = f'bar_{s}'\n",
    "    model.set_stimulus(S,stimname)\n",
    "    model.simulate()"
   ]
  },
  {
   "cell_type": "code",
   "execution_count": null,
   "id": "f16123af",
   "metadata": {},
   "outputs": [],
   "source": []
  },
  {
   "cell_type": "code",
   "execution_count": 52,
   "id": "a1ad61de",
   "metadata": {},
   "outputs": [
    {
     "data": {
      "text/plain": [
       "(512, 2560)"
      ]
     },
     "execution_count": 52,
     "metadata": {},
     "output_type": "execute_result"
    },
    {
     "data": {
      "image/png": "[encoded data removed]",
      "text/plain": [
       "<Figure size 640x480 with 1 Axes>"
      ]
     },
     "metadata": {},
     "output_type": "display_data"
    }
   ],
   "source": [
    "plt.imshow(barstim)\n",
    "barstim.shape"
   ]
  },
  {
   "cell_type": "code",
   "execution_count": 118,
   "id": "c2d6ee19",
   "metadata": {},
   "outputs": [
    {
     "data": {
      "text/plain": [
       "<matplotlib.image.AxesImage at 0x16b7a9910>"
      ]
     },
     "execution_count": 118,
     "metadata": {},
     "output_type": "execute_result"
    },
    {
     "data": {
      "image/png": "[encoded data removed]",
      "text/plain": [
       "<Figure size 640x480 with 1 Axes>"
      ]
     },
     "metadata": {},
     "output_type": "display_data"
    }
   ],
   "source": [
    "N = 512\n",
    "spacing = 0.005\n",
    "tauB = params['tauB']\n",
    "tauA = params['tauA']\n",
    "wBA = params['wBA']\n",
    "wAB = params['wAB']\n",
    "\n",
    "A = np.zeros((N*2,N*2))\n",
    "\n",
    "\n",
    "template = np.zeros((N,N))\n",
    "\n",
    "\n",
    "BB = template.copy()\n",
    "AA = template.copy()\n",
    "BA = template.copy()\n",
    "AB = template.copy()\n",
    "\n",
    "\n",
    "np.fill_diagonal(BB,-1/tauB)\n",
    "np.fill_diagonal(AA,-1/tauA)\n",
    "\n",
    "\n",
    "\n",
    "ii = np.arange(0,N-1,1).astype(int)  # list of source cells for rightward connections\n",
    "ji = ii + 1                          # target cells of rightward connections\n",
    "\n",
    "BA[ii,ji] = wBA\n",
    "\n",
    "ii = np.arange(1,N,1).astype(int)    # list of source cells for leftward connections\n",
    "ji = ii - 1                         # target cells of leftward connections\n",
    "\n",
    "BA[ii,ji] = wBA\n",
    "\n",
    "\n",
    "AB = template.copy()\n",
    "\n",
    "ii = np.arange(0,N-1,1).astype(int)  # list of source cells for rightward connections\n",
    "ji = ii + 1                          # target cells of rightward connections\n",
    "\n",
    "\n",
    "AB[ii,ji] = wAB\n",
    "\n",
    "\n",
    "ii = np.arange(1,N,1).astype(int)    # list of source cells for leftward connections\n",
    "ji = ii - 1                         # target cells of leftward connections\n",
    "\n",
    "AB[ii,ji] = wAB\n",
    "\n",
    "BB.shape\n",
    "BA.shape\n",
    "A = np.vstack((np.hstack((BB,BA)), np.hstack((AB,AA))))\n",
    "plt.imshow(A)\n"
   ]
  },
  {
   "cell_type": "code",
   "execution_count": 119,
   "id": "72aa1ad4",
   "metadata": {},
   "outputs": [
    {
     "data": {
      "text/plain": [
       "(-10.0, 10.0)"
      ]
     },
     "execution_count": 119,
     "metadata": {},
     "output_type": "execute_result"
    }
   ],
   "source": [
    "wBA,wAB"
   ]
  },
  {
   "cell_type": "code",
   "execution_count": 122,
   "id": "2d23dfd5",
   "metadata": {},
   "outputs": [
    {
     "name": "stdout",
     "output_type": "stream",
     "text": [
      "[[-12.5          0.           0.         ...   0.           0.\n",
      "    0.        ]\n",
      " [  0.         -12.5          0.         ...   0.           0.\n",
      "    0.        ]\n",
      " [  0.           0.         -12.5        ...   0.           0.\n",
      "    0.        ]\n",
      " ...\n",
      " [  0.           0.           0.         ...  -6.66666667   0.\n",
      "    0.        ]\n",
      " [  0.           0.           0.         ...   0.          -6.66666667\n",
      "    0.        ]\n",
      " [  0.           0.           0.         ...   0.           0.\n",
      "   -6.66666667]]\n"
     ]
    },
    {
     "name": "stderr",
     "output_type": "stream",
     "text": [
      "WARNING    /Users/simoneebert/opt/anaconda3/lib/python3.11/site-packages/matplotlib/cbook.py:1699: ComplexWarning: Casting complex values to real discards the imaginary part\n",
      "  return math.isfinite(val)\n",
      " [py.warnings]\n",
      "WARNING    /Users/simoneebert/opt/anaconda3/lib/python3.11/site-packages/matplotlib/cbook.py:1345: ComplexWarning: Casting complex values to real discards the imaginary part\n",
      "  return np.asarray(x, float)\n",
      " [py.warnings]\n"
     ]
    },
    {
     "data": {
      "image/png": "[encoded data removed]",
      "text/plain": [
       "<Figure size 1000x600 with 1 Axes>"
      ]
     },
     "metadata": {},
     "output_type": "display_data"
    }
   ],
   "source": [
    "import numpy as np\n",
    "import matplotlib.pyplot as plt\n",
    "\n",
    "# Define the coefficient matrix A (example: 20x20)\n",
    "# np.random.seed(42)  # For reproducibility\n",
    "# n = 2  # Size of the system\n",
    "# A = np.random.rand(n, n)  # Random 20x20 matrix\n",
    "n = N*2\n",
    "print(A)\n",
    "# Define initial condition (size n)\n",
    "X0 = np.ones(n)\n",
    "\n",
    "# Step 1: Compute eigenvalues and eigenvectors\n",
    "eigenvalues, eigenvectors = np.linalg.eig(A)\n",
    "\n",
    "# Eigenvector matrix (columns are eigenvectors)\n",
    "V = eigenvectors\n",
    "\n",
    "# Step 2: Solve for constants c1, c2, ..., cn\n",
    "# X0 = V @ C --> C = V^-1 @ X0\n",
    "C = np.linalg.solve(V, X0)  # Solving for constants C = [c1, c2, ..., cn]\n",
    "\n",
    "# Step 3: Define the solution as a function of time\n",
    "def X(t):\n",
    "    # Compute the solution as a sum of eigenvector components\n",
    "    terms = [C[i] * V[:, i] * np.exp(eigenvalues[i] * t) for i in range(n)]\n",
    "    return np.sum(terms, axis=0)  # Sum up all contributions\n",
    "\n",
    "# Time range for the solution\n",
    "t_values = np.linspace(0, 5, 100)  # t in [0, 5]\n",
    "solutions = np.array([X(t) for t in t_values])\n",
    "\n",
    "# Step 4: Plot the results\n",
    "plt.figure(figsize=(10, 6))\n",
    "for i in range(n):\n",
    "    plt.plot(t_values, solutions[:, i], label=f\"x{i+1}(t)\")\n",
    "\n",
    "plt.xlabel(\"Time (t)\")\n",
    "plt.ylabel(\"Solution\")\n",
    "plt.title(\"Solutions of the 20x20 Linear System\")\n",
    "# plt.legend(bbox_to_anchor=(1.05, 1), loc='upper left', fontsize='small')\n",
    "\n",
    "plt.grid()\n",
    "plt.tight_layout()\n",
    "plt.show()\n"
   ]
  },
  {
   "cell_type": "code",
   "execution_count": 123,
   "id": "f3333213",
   "metadata": {},
   "outputs": [
    {
     "data": {
      "text/plain": [
       "((1024, 1024), (1024,))"
      ]
     },
     "execution_count": 123,
     "metadata": {},
     "output_type": "execute_result"
    }
   ],
   "source": [
    "V.shape,X0.shape"
   ]
  },
  {
   "cell_type": "code",
   "execution_count": null,
   "id": "42421dca",
   "metadata": {},
   "outputs": [],
   "source": [
    "import numpy as np\n",
    "import matplotlib.pyplot as plt\n",
    "from scipy.linalg import expm\n",
    "\n",
    "\n",
    "# Define initial condition (size n)\n",
    "X0 = np.random.rand(n)\n",
    "\n",
    "# Define the input vector function B(t)\n",
    "def B(t):\n",
    "\n",
    "    v = 0.8\n",
    "    b = 0.16\n",
    "\n",
    "    B_out = np.zeros(N*2)\n",
    "\n",
    "    for c in range(N):\n",
    "\n",
    "        x = n * spacing  \n",
    "\n",
    "        if x >=-b+v*t and x <=b+v*t :\n",
    "            B_out[n] = 1\n",
    "        else:\n",
    "            B_out[n] = 0\n",
    "\n",
    "    return B_out\n",
    "        \n",
    "\n",
    "    # Example: Sinusoidal input affecting all states\n",
    "    # return np.sin(2 * np.pi * t) * np.ones(n)\n",
    "\n",
    "# Time range for the solution\n",
    "t_values = np.linspace(0, 5, 100)  # t in [0, 5]\n",
    "\n",
    "\n",
    "# Step 1: Compute eigenvalues and eigenvectors (for homogeneous solution)\n",
    "eigenvalues, eigenvectors = np.linalg.eig(A)\n",
    "\n",
    "# Eigenvector matrix (columns are eigenvectors)\n",
    "V = eigenvectors\n",
    "\n",
    "# Solve for constants c1, c2, ..., cn using the initial condition\n",
    "C = np.linalg.solve(V, X0)\n",
    "\n",
    "# Step 2: Define the homogeneous solution\n",
    "def X_h(t):\n",
    "    terms = [C[i] * V[:, i] * np.exp(eigenvalues[i] * t) for i in range(n)]\n",
    "    return np.sum(terms, axis=0)\n",
    "\n",
    "# Step 3: Compute the particular solution using numerical integration\n",
    "def X_p(t_values):\n",
    "    dt = t_values[1] - t_values[0]  # Time step\n",
    "    X_p_sol = np.zeros((len(t_values), n))  # Initialize solution array\n",
    "    \n",
    "    for i, t in enumerate(t_values):\n",
    "        integral = np.zeros(n)  # Initialize integral at time t\n",
    "        for tau in t_values[:i+1]:\n",
    "            exp_At_tau = expm(A * (t - tau))  # Compute e^{A(t - τ)}\n",
    "            integral += exp_At_tau @ B(tau) * dt\n",
    "        X_p_sol[i, :] = integral\n",
    "    return X_p_sol\n",
    "\n",
    "\n",
    "# Compute homogeneous and particular solutions\n",
    "X_h_values = np.array([X_h(t) for t in t_values])\n",
    "X_p_values = X_p(t_values)\n",
    "\n",
    "# Total solution\n",
    "solutions = X_h_values + X_p_values\n",
    "\n",
    "# Step 4: Plot the results\n",
    "plt.figure(figsize=(10, 6))\n",
    "for i in range(n):\n",
    "    plt.plot(t_values, solutions[:, i], label=f\"x{i+1}(t)\")\n",
    "\n",
    "plt.xlabel(\"Time (t)\")\n",
    "plt.ylabel(\"Solution\")\n",
    "plt.title(\"Solutions of the 20x20 Linear System with Input\")\n",
    "plt.legend(bbox_to_anchor=(1.05, 1), loc='upper left', fontsize='small')\n",
    "plt.grid()\n",
    "plt.tight_layout()\n",
    "plt.show()"
   ]
  }
 ],
 "metadata": {
  "colab": {
   "provenance": []
  },
  "kernelspec": {
   "display_name": "base",
   "language": "python",
   "name": "python3"
  },
  "language_info": {
   "codemirror_mode": {
    "name": "ipython",
    "version": 3
   },
   "file_extension": ".py",
   "mimetype": "text/x-python",
   "name": "python",
   "nbconvert_exporter": "python",
   "pygments_lexer": "ipython3",
   "version": "3.11.8"
  }
 },
 "nbformat": 4,
 "nbformat_minor": 5
}
