{
 "cells": [
  {
   "cell_type": "code",
   "execution_count": 1,
   "id": "c4eaf899",
   "metadata": {},
   "outputs": [],
   "source": [
    "%load_ext autoreload\n",
    "%autoreload 2"
   ]
  },
  {
   "cell_type": "code",
   "execution_count": 2,
   "id": "11699a86-dc74-4929-80f2-ce3e0ae1a39d",
   "metadata": {
    "id": "11699a86-dc74-4929-80f2-ce3e0ae1a39d"
   },
   "outputs": [],
   "source": [
    "import numpy as np\n",
    "import matplotlib.pyplot as plt\n",
    "import multiprocessing\n",
    "import os\n",
    "import sys\n",
    "from scipy.ndimage import gaussian_filter1d\n",
    "from scipy.signal import convolve\n",
    "from brian2 import *"
   ]
  },
  {
   "cell_type": "code",
   "execution_count": 3,
   "id": "67314c2d",
   "metadata": {},
   "outputs": [],
   "source": [
    "sys.path.append(\"../lib\") # add code library to paths\n",
    "\n",
    "# add lib to path \n",
    "from model_beta import Model\n",
    "\n"
   ]
  },
  {
   "cell_type": "code",
   "execution_count": 4,
   "id": "24c667d2",
   "metadata": {},
   "outputs": [],
   "source": [
    "# TODO: turn this into  script"
   ]
  },
  {
   "cell_type": "code",
   "execution_count": 5,
   "id": "84111023",
   "metadata": {},
   "outputs": [
    {
     "name": "stdout",
     "output_type": "stream",
     "text": [
      "../output/recurrent_nn\n"
     ]
    }
   ],
   "source": [
    "netname = 'recurrent_nn'\n",
    "model = Model(netname)  # initiate the model\n"
   ]
  },
  {
   "cell_type": "code",
   "execution_count": 8,
   "id": "65b816f6",
   "metadata": {},
   "outputs": [],
   "source": [
    "params = {\n",
    "'sig_c' : 0.05  ,    # bipolar receptive fied size ~ 1/5 of the actual size [mm]\n",
    "'tau1' : 0.04   ,    # excitation time constant of the temporal filter [s]\n",
    "'tau2' : 0.0876 ,    # rebound time constant [s]\n",
    "'bifw' : 0.     ,    # relative weight of rebound/excitation [1]\n",
    "\n",
    "'scale_mV' : 20.,     # UPDATED \n",
    "\n",
    "'tauA' : 0.15   ,     # time constant of amacrine cells [s]\n",
    "'tauB' : 0.08   ,     # time constant of bipolar cells [s]\n",
    "'tauG' : 0.01   ,     # time contant of ganglion cells [s]\n",
    "\n",
    "'wAB' : 10.     ,     # synaptic weight from bipolar to amacrine [Hz]\n",
    "'wBA' : -10.    ,     # synaptic weight from amacrine to bipolar [Hz]\n",
    "'wGB' : 4.0     ,     # synaptic weight from bipolar to gangion  [Hz].   #UPDATED\n",
    "'wGA' : 0.      ,     # synaptic weight from amacrine  to gangion  [Hz]\n",
    "\n",
    "'slope' : 5     ,     # slope for ganglion cell recritifation [Hz/mV].   #UPDATED\n",
    "'threshold' : 0 ,     # threshold for ganglion cell recritifation [Hz/mV]\n",
    "'sig_pool' : 0.065 ,  # sigma for gaussian pooling in ganlion gells [mm]\n",
    "\n",
    "\n",
    "'spacing' : 0.005  ,  # spacing of cells on the lattice [mm]\n",
    "'dt' : 0.001      ,   # integration time step [s]\n",
    "'N' : 512          ,  # number of neurons in each layer [1]\n",
    "\n",
    "\n",
    "# idx = int(N/2)\n",
    "# b =  0.160         # half bar width [mm]\n",
    "# speed =  0.8       # speed [mm/s]  \n",
    "}\n"
   ]
  },
  {
   "cell_type": "code",
   "execution_count": 9,
   "id": "02f5027f",
   "metadata": {},
   "outputs": [],
   "source": [
    "\n",
    "# create connectivity matrix TODO write a class for this !!!\n",
    "\n",
    "C = np.zeros((params['N'],params['N']))\n",
    "ii = np.arange(0,params['N']-1,1).astype(int)  # list of source cells for rightward connections\n",
    "ji = ii + 1                          # target cells of rightward connections\n",
    "\n",
    "\n",
    "C[ii,ji] = 1\n",
    "\n",
    "ii = np.arange(1,params['N'],1).astype(int)    # list of source cells for leftward connections\n",
    "ji = ii - 1                         # target cells of leftward connections\n",
    "\n",
    "C[ii,ji] = 1\n"
   ]
  },
  {
   "cell_type": "code",
   "execution_count": 10,
   "id": "fcec5515",
   "metadata": {},
   "outputs": [],
   "source": [
    "\n",
    "model.set_params(params)\n",
    "model.set_connectivity(C)\n"
   ]
  },
  {
   "cell_type": "markdown",
   "id": "437f075a",
   "metadata": {},
   "source": [
    "# simulate response to global impulse"
   ]
  },
  {
   "cell_type": "code",
   "execution_count": 11,
   "id": "b14fcf72",
   "metadata": {},
   "outputs": [],
   "source": [
    "\n",
    "dur = 3.                      # duration of the simulation [s]\n",
    "tps = int(dur/params['dt'])             # number of time-points in the simulation [1]\n",
    "time = np.arange(0,tps)*params['dt']    # time array for the simulation 1xtps, in [s]\n",
    "\n",
    "# initialize the stimulus\n",
    "S = np.zeros((params['N'],tps))\n",
    "S[:,int(tps/2)] = 1\n"
   ]
  },
  {
   "cell_type": "code",
   "execution_count": 12,
   "id": "f9d13e0f-8b58-4eb1-bb2e-b257e7164071",
   "metadata": {
    "id": "f9d13e0f-8b58-4eb1-bb2e-b257e7164071"
   },
   "outputs": [
    {
     "name": "stdout",
     "output_type": "stream",
     "text": [
      "../output/recurrent_nn/gImpulse\n"
     ]
    }
   ],
   "source": [
    "model.set_stimulus(S,'gImpulse')\n",
    "model.simulate()"
   ]
  },
  {
   "cell_type": "markdown",
   "id": "bc07ccca",
   "metadata": {},
   "source": [
    "# simulate response to local Impulse"
   ]
  },
  {
   "cell_type": "code",
   "execution_count": 17,
   "id": "05715ed6",
   "metadata": {},
   "outputs": [],
   "source": [
    "\n",
    "dur = 3.                      # duration of the simulation [s]\n",
    "tps = int(dur/params['dt'])             # number of time-points in the simulation [1]\n",
    "time = np.arange(0,tps)*params['dt']    # time array for the simulation 1xtps, in [s]\n",
    "\n",
    "# initialize the stimulus\n",
    "S = np.zeros((params['N'],tps))\n",
    "S[206,int(tps/2)] = 1/params['dt']*0.05\n"
   ]
  },
  {
   "cell_type": "code",
   "execution_count": 18,
   "id": "06e71829",
   "metadata": {},
   "outputs": [
    {
     "name": "stdout",
     "output_type": "stream",
     "text": [
      "../output/recurrent_nn/lImpulse\n"
     ]
    }
   ],
   "source": [
    "model.set_stimulus(S,'lImpulse')\n",
    "model.simulate()"
   ]
  },
  {
   "cell_type": "code",
   "execution_count": 19,
   "id": "58d17b2c",
   "metadata": {},
   "outputs": [
    {
     "data": {
      "text/plain": [
       "0.005"
      ]
     },
     "execution_count": 19,
     "metadata": {},
     "output_type": "execute_result"
    }
   ],
   "source": [
    "params['spacing']"
   ]
  },
  {
   "cell_type": "code",
   "execution_count": null,
   "id": "16b50943",
   "metadata": {},
   "outputs": [],
   "source": []
  }
 ],
 "metadata": {
  "colab": {
   "provenance": []
  },
  "kernelspec": {
   "display_name": "base",
   "language": "python",
   "name": "python3"
  },
  "language_info": {
   "codemirror_mode": {
    "name": "ipython",
    "version": 3
   },
   "file_extension": ".py",
   "mimetype": "text/x-python",
   "name": "python",
   "nbconvert_exporter": "python",
   "pygments_lexer": "ipython3",
   "version": "3.11.8"
  }
 },
 "nbformat": 4,
 "nbformat_minor": 5
}
