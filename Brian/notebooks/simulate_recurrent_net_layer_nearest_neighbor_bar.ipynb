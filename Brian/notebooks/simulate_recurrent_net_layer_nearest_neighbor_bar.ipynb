{
 "cells": [
  {
   "cell_type": "code",
   "execution_count": 1,
   "id": "c4eaf899",
   "metadata": {
    "tags": []
   },
   "outputs": [],
   "source": [
    "%load_ext autoreload\n",
    "%autoreload 2"
   ]
  },
  {
   "cell_type": "code",
   "execution_count": 2,
   "id": "11699a86-dc74-4929-80f2-ce3e0ae1a39d",
   "metadata": {
    "id": "11699a86-dc74-4929-80f2-ce3e0ae1a39d",
    "tags": []
   },
   "outputs": [],
   "source": [
    "import numpy as np\n",
    "import matplotlib.pyplot as plt\n",
    "import multiprocessing\n",
    "import os\n",
    "import sys\n",
    "from scipy.ndimage import gaussian_filter1d\n",
    "from scipy.signal import convolve\n",
    "from brian2 import *"
   ]
  },
  {
   "cell_type": "code",
   "execution_count": 3,
   "id": "67314c2d",
   "metadata": {
    "tags": []
   },
   "outputs": [],
   "source": [
    "sys.path.append(\"../lib\") # add code library to paths\n",
    "\n",
    "# add lib to path \n",
    "from model_beta import Model"
   ]
  },
  {
   "cell_type": "code",
   "execution_count": 4,
   "id": "24c667d2",
   "metadata": {
    "tags": []
   },
   "outputs": [],
   "source": [
    "# TODO: turn this into  script"
   ]
  },
  {
   "cell_type": "code",
   "execution_count": 5,
   "id": "84111023",
   "metadata": {
    "tags": []
   },
   "outputs": [
    {
     "name": "stdout",
     "output_type": "stream",
     "text": [
      "../output/recurrent_nn\n"
     ]
    }
   ],
   "source": [
    "netname = 'recurrent_nn'\n",
    "model = Model(netname)  # initiate the model\n"
   ]
  },
  {
   "cell_type": "code",
   "execution_count": 6,
   "id": "65b816f6",
   "metadata": {
    "tags": []
   },
   "outputs": [],
   "source": [
    "params = {\n",
    "'sig_c' : 0.05  ,    # bipolar receptive fied size ~ 1/5 of the actual size [mm]\n",
    "'tau1' : 0.04   ,    # excitation time constant of the temporal filter [s]\n",
    "'tau2' : 0.0876 ,    # rebound time constant [s]\n",
    "'bifw' : 0.     ,    # relative weight of rebound/excitation [1]\n",
    "\n",
    "'scale_mV' : 20.,     # UPDATED \n",
    "\n",
    "'tauA' : 0.15   ,     # time constant of amacrine cells [s]\n",
    "'tauB' : 0.08   ,     # time constant of bipolar cells [s]\n",
    "'tauG' : 0.01   ,     # time contant of ganglion cells [s]\n",
    "\n",
    "'wAB' : 10.     ,     # synaptic weight from bipolar to amacrine [Hz]\n",
    "'wBA' : -10.    ,     # synaptic weight from amacrine to bipolar [Hz]\n",
    "'wGB' : 4.0     ,     # synaptic weight from bipolar to gangion  [Hz].   #UPDATED\n",
    "'wGA' : 0.      ,     # synaptic weight from amacrine  to gangion  [Hz]\n",
    "\n",
    "'slope' : 5     ,     # slope for ganglion cell recritifation [Hz/mV].   #UPDATED\n",
    "'threshold' : 0 ,     # threshold for ganglion cell recritifation [Hz/mV]\n",
    "'sig_pool' : 0.065 ,  # sigma for gaussian pooling in ganlion gells [mm]\n",
    "\n",
    "\n",
    "'spacing' : 0.005  ,  # spacing of cells on the lattice [mm]\n",
    "'dt' : 0.001      ,   # integration time step [s]\n",
    "'N' : 512          ,  # number of neurons in each layer [1]\n",
    "\n",
    "\n",
    "# idx = int(N/2)\n",
    "# b =  0.160         # half bar width [mm]\n",
    "# speed =  0.8       # speed [mm/s]  \n",
    "}\n"
   ]
  },
  {
   "cell_type": "code",
   "execution_count": 7,
   "id": "02f5027f",
   "metadata": {
    "tags": []
   },
   "outputs": [],
   "source": [
    "\n",
    "# create connectivity matrix TODO write a class for this !!!\n",
    "\n",
    "C = np.zeros((params['N'],params['N']))\n",
    "ii = np.arange(0,params['N']-1,1).astype(int)  # list of source cells for rightward connections\n",
    "ji = ii + 1                          # target cells of rightward connections\n",
    "\n",
    "\n",
    "C[ii,ji] = 1\n",
    "\n",
    "ii = np.arange(1,params['N'],1).astype(int)    # list of source cells for leftward connections\n",
    "ji = ii - 1                         # target cells of leftward connections\n",
    "\n",
    "C[ii,ji] = 1\n"
   ]
  },
  {
   "cell_type": "code",
   "execution_count": 8,
   "id": "fcec5515",
   "metadata": {
    "tags": []
   },
   "outputs": [],
   "source": [
    "\n",
    "model.set_params(params)\n",
    "model.set_connectivity(C)\n"
   ]
  },
  {
   "cell_type": "markdown",
   "id": "437f075a",
   "metadata": {},
   "source": [
    "# simulate response to moving bar at one speed"
   ]
  },
  {
   "cell_type": "code",
   "execution_count": 9,
   "id": "b14fcf72",
   "metadata": {
    "tags": []
   },
   "outputs": [
    {
     "name": "stdout",
     "output_type": "stream",
     "text": [
      "(512, 3199) 2.56\n"
     ]
    }
   ],
   "source": [
    "\n",
    "# function to make bar stimulus\n",
    "def bar(t, x, b, v):\n",
    "\n",
    "    if x >=-b+v*t and x <=b+v*t :\n",
    "        return 1\n",
    "    else:\n",
    "        return 0\n",
    "\n",
    "\n",
    "speed = 0.8\n",
    "b = 0.16\n",
    "L = params['N']*params['spacing']\n",
    "dt = params['dt']\n",
    "dur = L/speed                 # duration of the simulation [s]\n",
    "tps = int(dur/params['dt'])             # number of time-points in the simulation [1]\n",
    "\n",
    "# # #enfroce tps to pe power of 2 \n",
    "# import math\n",
    "# # pow = np.floor(math.log2(tps))+1\n",
    "# # tps = int(2**pow)\n",
    "# # print(pow,tps)\n",
    "# pow = np.floor(math.log2(tps))\n",
    "# tps = int(2**pow)\n",
    "# dt = dur/tps\n",
    "\n",
    "\n",
    "time = np.arange(0,tps)*dt    # time array for the simulation 1xtps, in [s]\n",
    "\n",
    "\n",
    "# make bar stimulus\n",
    "barstim = np.zeros((params['N'],tps))\n",
    "\n",
    "for n in range(params['N']):\n",
    "    for ti in range(tps):\n",
    "        xi = n*params['spacing']\n",
    "        barstim[n,ti] = bar(ti*dt,xi,b,speed)\n",
    "\n",
    "\n",
    "S = barstim\n",
    "\n",
    "print(S.shape,L)"
   ]
  },
  {
   "cell_type": "code",
   "execution_count": 10,
   "id": "f9d13e0f-8b58-4eb1-bb2e-b257e7164071",
   "metadata": {
    "id": "f9d13e0f-8b58-4eb1-bb2e-b257e7164071",
    "tags": []
   },
   "outputs": [],
   "source": [
    "model.set_stimulus(S,f'bar_{speed}')\n",
    "model.simulate()"
   ]
  },
  {
   "cell_type": "code",
   "execution_count": 11,
   "id": "32af9993",
   "metadata": {
    "tags": []
   },
   "outputs": [
    {
     "data": {
      "text/plain": [
       "<matplotlib.image.AxesImage at 0x7f22bb3b79d0>"
      ]
     },
     "execution_count": 11,
     "metadata": {},
     "output_type": "execute_result"
    },
    {
     "data": {
      "image/png": "[encoded data removed]",
      "text/plain": [
       "<Figure size 640x480 with 1 Axes>"
      ]
     },
     "metadata": {},
     "output_type": "display_data"
    }
   ],
   "source": [
    "plt.imshow(S)"
   ]
  },
  {
   "cell_type": "markdown",
   "id": "04675142-d596-41b8-8f21-a8ff0fff648a",
   "metadata": {},
   "source": [
    "# simulate response for multiple speeds"
   ]
  },
  {
   "cell_type": "code",
   "execution_count": 12,
   "id": "16b50943",
   "metadata": {
    "tags": []
   },
   "outputs": [],
   "source": [
    "# loop over speeds \n",
    "speeds = np.round(np.arange(0.1,1.1,0.1),1)\n",
    "\n",
    "for s in speeds: \n",
    "    \n",
    "    dur = L/s                 # duration of the simulation [s]\n",
    "    tps = int(dur/params['dt'])             # number of time-points in the simulation [1]\n",
    "    # print(tps)\n",
    "    # #enfroce tps to pe power of 2 \n",
    "    # import math\n",
    "    # # pow = np.floor(math.log2(tps))+1\n",
    "    # # tps = int(2**pow)\n",
    "    # # print(pow,tps)\n",
    "    # pow = np.floor(math.log2(tps))\n",
    "    # tps = int(2**pow)\n",
    "    # dt = dur/tps\n",
    "\n",
    "\n",
    "    time = np.arange(0,tps)*dt    # time array for the simulation 1xtps, in [s]\n",
    "\n",
    "\n",
    "    # make bar stimulus\n",
    "    barstim = np.zeros((params['N'],tps))\n",
    "\n",
    "    for n in range(params['N']):\n",
    "        for ti in range(tps):\n",
    "            xi = n*params['spacing']\n",
    "            barstim[n,ti] = bar(ti*dt,xi,b,s)\n",
    "\n",
    "    S = barstim\n",
    "    # print(S.shape)\n",
    "    stimname = f'bar_{s}'\n",
    "    model.set_stimulus(S,stimname)\n",
    "    model.simulate()"
   ]
  },
  {
   "cell_type": "code",
   "execution_count": 13,
   "id": "be5d0fde-d798-47b9-b47d-601fc2c2d280",
   "metadata": {
    "tags": []
   },
   "outputs": [
    {
     "name": "stdout",
     "output_type": "stream",
     "text": [
      "1.03 10.299999999999999 0.1\n",
      "1.03 5.1499999999999995 0.2\n",
      "1.03 3.4333333333333336 0.3\n",
      "1.03 2.5749999999999997 0.4\n",
      "1.03 2.06 0.5\n",
      "1.03 1.7166666666666668 0.6\n",
      "1.03 1.4714285714285715 0.7\n",
      "1.03 1.2874999999999999 0.8\n",
      "1.03 1.1444444444444444 0.9\n",
      "1.03 1.03 1.0\n"
     ]
    }
   ],
   "source": [
    "\n",
    "t_bars = []\n",
    "\n",
    "t_max_Gs = []\n",
    "t_max_Bs = []\n",
    "\n",
    "t_shift_Gs = []\n",
    "t_shift_Bs = []\n",
    "\n",
    "ant_Gs = []\n",
    "ant_Bs = []\n",
    "\n",
    "v_max_Gs = []\n",
    "v_max_Bs = []\n",
    "\n",
    "for s in speeds:\n",
    "\n",
    "    stimname = f'bar_{s}'\n",
    "    sigB = np.load(f'../output/{netname}/{stimname}/BC_grid_{stimname}.npy')\n",
    "    sigA = np.load(f'../output/{netname}/{stimname}/AC_grid_{stimname}.npy')\n",
    "    sigG = np.load(f'../output/{netname}/{stimname}/GC_grid_{stimname}.npy')\n",
    "    stim = np.load(f'../output/{netname}/{stimname}/stim_grid_{stimname}.npy')\n",
    "\n",
    "    N = 206                   # choolse middle cell\n",
    "    x = N * params['spacing'] # calculate cell position\n",
    "    t_bar = x/s               # calculate t_bar\n",
    "\n",
    "    print(x,t_bar,s)\n",
    "    t_max_G = np.argmax(sigG[N,:])*params['dt'] # measure t_max\n",
    "    t_max_B = np.argmax(sigB[N,:])*params['dt'] # measure t_max\n",
    "    \n",
    "\n",
    "    t_shift_G = t_bar-t_max_G # measure peah shift\n",
    "    t_shift_B = t_bar-t_max_B # measure peah shift\n",
    "    \n",
    "    \n",
    "    ant_G = t_shift_G*s     # calculate anticipation\n",
    "    ant_B = t_shift_B*s     # calculate anticipation\n",
    "\n",
    "    \n",
    "    v_max_G = np.max(sigG[N,:])  # measure max\n",
    "    v_max_B = np.max(sigB[N,:])  # measure max\n",
    "\n",
    "    \n",
    "    t_bars.append(t_bar)\n",
    "    t_max_Gs.append(t_max_G)\n",
    "    t_max_Bs.append(t_max_B)\n",
    "    \n",
    "    t_shift_Gs.append(t_shift_G)\n",
    "    t_shift_Bs.append(t_shift_B)\n",
    "    \n",
    "    ant_Gs.append(ant_G)\n",
    "    ant_Bs.append(ant_B)\n",
    "    \n",
    "    v_max_Gs.append(v_max_G)\n",
    "    v_max_Bs.append(v_max_B)\n",
    "    \n",
    "    \n",
    "    \n",
    "    # save as a separate file"
   ]
  },
  {
   "cell_type": "code",
   "execution_count": 14,
   "id": "85194d55-c774-44e0-a0f6-6155ffef3085",
   "metadata": {
    "tags": []
   },
   "outputs": [
    {
     "data": {
      "text/plain": [
       "<matplotlib.legend.Legend at 0x7f22b99bb890>"
      ]
     },
     "execution_count": 14,
     "metadata": {},
     "output_type": "execute_result"
    },
    {
     "data": {
      "image/png": "[encoded data removed]",
      "text/plain": [
       "<Figure size 1000x200 with 5 Axes>"
      ]
     },
     "metadata": {},
     "output_type": "display_data"
    }
   ],
   "source": [
    "\n",
    "fig = plt.figure(figsize = (10,2))\n",
    "gs = fig.add_gridspec(1,5)\n",
    "fig.subplots_adjust(wspace = 0.6)\n",
    "\n",
    "ax = fig.add_subplot(gs[0,0])\n",
    "ax.scatter(speeds,t_bars,label = 'bar', color = 'grey')\n",
    "ax.set_title('$t_{bar}$', loc = 'left')\n",
    "ax.set_xlabel('$v [mm/s]$')\n",
    "ax.set_xlabel('$v [mm/s]$')\n",
    "ax.set_ylabel('$[s]$')\n",
    "\n",
    "ax = fig.add_subplot(gs[0,1])\n",
    "ax.scatter(speeds,t_max_Gs, label = 'G', color = 'k')\n",
    "ax.scatter(speeds,t_max_Bs, label = 'B', color = 'b')\n",
    "ax.set_title('$t_{peak}$', loc = 'left')\n",
    "ax.set_xlabel('$v [mm/s]$')\n",
    "ax.set_ylabel('$[s]$')\n",
    "\n",
    "\n",
    "\n",
    "ax = fig.add_subplot(gs[0,2])\n",
    "ax.scatter(speeds,t_shift_Gs, color = 'k')\n",
    "ax.scatter(speeds,t_shift_Bs, color = 'b')\n",
    "ax.axhline(0,color = 'k', linestyle = ':')\n",
    "ax.set_title('$\\delta t$', loc = 'left')\n",
    "ax.set_xlabel('$v [mm/s]$')\n",
    "ax.set_ylabel('$[s]$')\n",
    "\n",
    "\n",
    "\n",
    "ax = fig.add_subplot(gs[0,3])\n",
    "ax.scatter(speeds,ant_Gs, color = 'k')\n",
    "ax.scatter(speeds,ant_Bs, color = 'b')\n",
    "ax.axhline(0,color = 'k', linestyle = ':')\n",
    "ax.set_title('$\\delta X$', loc = 'left')\n",
    "ax.set_xlabel('$v [mm/s]$')\n",
    "ax.set_ylabel('$[mm]$')\n",
    "\n",
    "\n",
    "\n",
    "ax = fig.add_subplot(gs[0,4])\n",
    "ax.scatter(speeds,v_max_Gs, color = 'k')\n",
    "ax.scatter(speeds,v_max_Bs, color = 'b')\n",
    "ax.set_title('$V_{peak} $', loc = 'left')\n",
    "ax.set_xlabel('$v [mm/s]$')\n",
    "ax.set_ylabel('$[mV]$')\n",
    "\n",
    "fig.legend()"
   ]
  },
  {
   "cell_type": "markdown",
   "id": "237e3636-525b-4cd5-8334-e19ce840bbe9",
   "metadata": {},
   "source": [
    "# loop over parameter and extract peak, anticipation, preferred speed "
   ]
  },
  {
   "cell_type": "code",
   "execution_count": 15,
   "id": "1bec736c-d59c-47f5-99c2-d79315cbaaa6",
   "metadata": {
    "tags": []
   },
   "outputs": [
    {
     "data": {
      "text/plain": [
       "48"
      ]
     },
     "execution_count": 15,
     "metadata": {},
     "output_type": "execute_result"
    }
   ],
   "source": [
    "# loop over paramerter and save response, steady state\n",
    "import pandas as pd\n",
    "import joblib\n",
    "from joblib import Parallel,delayed\n",
    "\n",
    "joblib.cpu_count()"
   ]
  },
  {
   "cell_type": "code",
   "execution_count": 35,
   "id": "48289ebb-67d4-4d57-867a-bd2687ca572c",
   "metadata": {},
   "outputs": [
    {
     "name": "stderr",
     "output_type": "stream",
     "text": [
      "[Parallel(n_jobs=40)]: Using backend LokyBackend with 40 concurrent workers.\n",
      "[Parallel(n_jobs=40)]: Done   1 tasks      | elapsed:  1.9min\n"
     ]
    }
   ],
   "source": [
    "speeds = np.round(np.arange(0.1,1.1,0.1),1)\n",
    "wBAs = np.arange(1,25,1)\n",
    "tauAs = np.round(np.logspace(0,1)*0.02,3)\n",
    "wBAs = wBAs[-1]\n",
    "tauAs = tauAs[-1]\n",
    "speeds = speeds[-1]\n",
    "\n",
    "\n",
    "# print(len(wBAs),len(tauAs), len(speeds))\n",
    "\n",
    "N = 206                   # choolse middle cell\n",
    "x = N * params['spacing'] # calculate cell position\n",
    "model.dt = 0.01\n",
    "params['dt'] = model.dt\n",
    "\n",
    "df = pd.DataFrame(columns = ['BC206','wBA','tauA', 'speed', 't_bar', 't_max_G', 't_shift_G', 'ant_G', 'v_max_G', 't_max_B', 't_shift_B', 'ant_B', 'v_max_B', 'pref_v_G', 'pref_v_B'])\n",
    "grid = np.array(np.meshgrid(wBAs,tauAs, speeds)).T.reshape(-1,3)\n",
    "\n",
    "\n",
    "def run_one(par):\n",
    "\n",
    "    wBA = par[0]\n",
    "    tauA = par[1]\n",
    "    s = par[2]\n",
    "\n",
    "    params['tauA'] = tauA\n",
    "    params['wBA'] = -1*wBA\n",
    "    params['speed'] = s\n",
    "    \n",
    "\n",
    "\n",
    "    dur = L/s                               # duration of the simulation [s]\n",
    "    tps = int(dur/params['dt'])             # number of time-points in the simulation [1]\n",
    "\n",
    "    # make bar stimulus\n",
    "    barstim = np.zeros((params['N'],tps))\n",
    "\n",
    "    for n in range(params['N']):\n",
    "        for ti in range(tps):\n",
    "            xi = n*params['spacing']\n",
    "            barstim[n,ti] = bar(ti*dt,xi,b,s)\n",
    "\n",
    "    S = barstim\n",
    "    # print(S.shape)\n",
    "    \n",
    "    stimname = f'bar_{s}'\n",
    "    \n",
    "    \n",
    "    model.set_params(params)\n",
    "    model.set_stimulus(S,stimname)\n",
    "    BC206 = np.array(model.simulate(save = False))\n",
    "\n",
    "    \n",
    "    t_bar = x/s                              # calculate t_bar\n",
    "    t_max_B = np.argmax(BC206)*params['dt']  # measure t_max\n",
    "    t_shift_B = t_bar-t_max_B                # measure peah shift\n",
    "    ant_B = t_shift_B*s                      # calculate anticipation\n",
    "    v_max_B = np.max(BC206)                  # measure max\n",
    "\n",
    "    dict = {'BC206': list(BC206),\n",
    "            'wBA': wBA,\n",
    "            'tauA': tauA,\n",
    "            't_bar' : t_bar,\n",
    "            'speed': s,\n",
    "            't_max_B':t_max_B,\n",
    "            't_shift_B':t_shift_B,\n",
    "            'ant_B':ant_B,\n",
    "            'v_max_B':v_max_B\n",
    "           }\n",
    "\n",
    "    return dict\n",
    "\n",
    "                                \n",
    "X = Parallel(n_jobs = 40, verbose=10)(delayed(run_one)(g) for g in grid)\n",
    "\n",
    "\n",
    "for xi in X:\n",
    "        df.loc[len(df)] = xi\n",
    "\n",
    "# save dataframe \n",
    "df.to_csv(f'{model.dir}/grid_bar_peakshift.csv')\n"
   ]
  },
  {
   "cell_type": "code",
   "execution_count": 20,
   "id": "2d750102-1a2c-424e-b102-fc45760650df",
   "metadata": {
    "tags": []
   },
   "outputs": [],
   "source": [
    "import pandas as pd\n",
    "# load df\n",
    "stimname = 'bar'\n",
    "df = pd.read_csv(f'../output/{netname}/grid_bar_peakshift.csv')"
   ]
  },
  {
   "cell_type": "code",
   "execution_count": 29,
   "id": "bc67875a-b773-440a-bc0c-59c02f72988d",
   "metadata": {
    "tags": []
   },
   "outputs": [
    {
     "ename": "TypeError",
     "evalue": "'numpy.int64' object is not iterable",
     "output_type": "error",
     "traceback": [
      "\u001b[0;31m---------------------------------------------------------------------------\u001b[0m",
      "\u001b[0;31mTypeError\u001b[0m                                 Traceback (most recent call last)",
      "Cell \u001b[0;32mIn[29], line 1\u001b[0m\n\u001b[0;32m----> 1\u001b[0m \u001b[38;5;28;43;01mfor\u001b[39;49;00m\u001b[43m \u001b[49m\u001b[43mwBA\u001b[49m\u001b[43m \u001b[49m\u001b[38;5;129;43;01min\u001b[39;49;00m\u001b[43m \u001b[49m\u001b[43mwBAs\u001b[49m\u001b[43m:\u001b[49m\n\u001b[1;32m      2\u001b[0m \u001b[43m    \u001b[49m\u001b[38;5;28;43;01mfor\u001b[39;49;00m\u001b[43m \u001b[49m\u001b[43mtauA\u001b[49m\u001b[43m \u001b[49m\u001b[38;5;129;43;01min\u001b[39;49;00m\u001b[43m \u001b[49m\u001b[43mtauAs\u001b[49m\u001b[43m:\u001b[49m\n\u001b[1;32m      3\u001b[0m \u001b[43m        \u001b[49m\u001b[38;5;66;43;03m# Filter the DataFrame for current conditions\u001b[39;49;00m\n\u001b[1;32m      4\u001b[0m \u001b[43m        \u001b[49m\u001b[43msbdf\u001b[49m\u001b[43m \u001b[49m\u001b[38;5;241;43m=\u001b[39;49m\u001b[43m \u001b[49m\u001b[43mdf\u001b[49m\u001b[43m[\u001b[49m\u001b[43m(\u001b[49m\u001b[43mdf\u001b[49m\u001b[43m[\u001b[49m\u001b[38;5;124;43m'\u001b[39;49m\u001b[38;5;124;43mwBA\u001b[39;49m\u001b[38;5;124;43m'\u001b[39;49m\u001b[43m]\u001b[49m\u001b[43m \u001b[49m\u001b[38;5;241;43m==\u001b[39;49m\u001b[43m \u001b[49m\u001b[43mwBA\u001b[49m\u001b[43m)\u001b[49m\u001b[43m \u001b[49m\u001b[38;5;241;43m&\u001b[39;49m\u001b[43m \u001b[49m\u001b[43m(\u001b[49m\u001b[43mdf\u001b[49m\u001b[43m[\u001b[49m\u001b[38;5;124;43m'\u001b[39;49m\u001b[38;5;124;43mtauA\u001b[39;49m\u001b[38;5;124;43m'\u001b[39;49m\u001b[43m]\u001b[49m\u001b[43m \u001b[49m\u001b[38;5;241;43m==\u001b[39;49m\u001b[43m \u001b[49m\u001b[43mtauA\u001b[49m\u001b[43m)\u001b[49m\u001b[43m]\u001b[49m\n",
      "\u001b[0;31mTypeError\u001b[0m: 'numpy.int64' object is not iterable"
     ]
    }
   ],
   "source": [
    "\n",
    "for wBA in wBAs:\n",
    "    for tauA in tauAs:\n",
    "        # Filter the DataFrame for current conditions\n",
    "        sbdf = df[(df['wBA'] == wBA) & (df['tauA'] == tauA)]\n",
    "        \n",
    "        if not sbdf.empty:  # Proceed only if the subset is non-empty\n",
    "            # Find the index of the row with the maximum 'ant_B'\n",
    "            maxidx = sbdf['ant_B'].idxmax()\n",
    "            \n",
    "            # Get the preferred speed value\n",
    "            pref_v = sbdf.at[maxidx, 'speed']\n",
    "            \n",
    "            # Assign the preferred value to the relevant rows in the original DataFrame\n",
    "            df.loc[sbdf.index, 'pref_v_B'] = pref_v"
   ]
  },
  {
   "cell_type": "code",
   "execution_count": 42,
   "id": "c4054f54-6447-47cc-8044-b8fc5e4d97e5",
   "metadata": {
    "tags": []
   },
   "outputs": [],
   "source": [
    "\n",
    "df.to_pickle(f'{model.dir}/grid_bar_peakshift_.plk')\n"
   ]
  },
  {
   "cell_type": "code",
   "execution_count": 47,
   "id": "359f2a8b-4858-46be-af57-a0275899e900",
   "metadata": {
    "tags": []
   },
   "outputs": [
    {
     "ename": "FileNotFoundError",
     "evalue": "[Errno 2] No such file or directory: '../output/recurrent_nn/grid_bar_peakshift_.pkl'",
     "output_type": "error",
     "traceback": [
      "\u001b[0;31m---------------------------------------------------------------------------\u001b[0m",
      "\u001b[0;31mFileNotFoundError\u001b[0m                         Traceback (most recent call last)",
      "Cell \u001b[0;32mIn[47], line 2\u001b[0m\n\u001b[1;32m      1\u001b[0m \u001b[38;5;28;01mfrom\u001b[39;00m \u001b[38;5;21;01mast\u001b[39;00m \u001b[38;5;28;01mimport\u001b[39;00m literal_eval\n\u001b[0;32m----> 2\u001b[0m df_ \u001b[38;5;241m=\u001b[39m \u001b[43mpd\u001b[49m\u001b[38;5;241;43m.\u001b[39;49m\u001b[43mread_pickle\u001b[49m\u001b[43m(\u001b[49m\u001b[38;5;124;43mf\u001b[39;49m\u001b[38;5;124;43m'\u001b[39;49m\u001b[38;5;132;43;01m{\u001b[39;49;00m\u001b[43mmodel\u001b[49m\u001b[38;5;241;43m.\u001b[39;49m\u001b[43mdir\u001b[49m\u001b[38;5;132;43;01m}\u001b[39;49;00m\u001b[38;5;124;43m/grid_bar_peakshift_.pkl\u001b[39;49m\u001b[38;5;124;43m'\u001b[39;49m\u001b[43m)\u001b[49m\n\u001b[1;32m      3\u001b[0m df_[\u001b[38;5;124m'\u001b[39m\u001b[38;5;124mBC206\u001b[39m\u001b[38;5;124m'\u001b[39m]\u001b[38;5;241m.\u001b[39mloc[\u001b[38;5;241m0\u001b[39m]\n",
      "File \u001b[0;32m/.pyenv/versions/3.11.5/lib/python3.11/site-packages/pandas/io/pickle.py:179\u001b[0m, in \u001b[0;36mread_pickle\u001b[0;34m(filepath_or_buffer, compression, storage_options)\u001b[0m\n\u001b[1;32m    115\u001b[0m \u001b[38;5;250m\u001b[39m\u001b[38;5;124;03m\"\"\"\u001b[39;00m\n\u001b[1;32m    116\u001b[0m \u001b[38;5;124;03mLoad pickled pandas object (or any object) from file.\u001b[39;00m\n\u001b[1;32m    117\u001b[0m \n\u001b[0;32m   (...)\u001b[0m\n\u001b[1;32m    176\u001b[0m \u001b[38;5;124;03m4    4    9\u001b[39;00m\n\u001b[1;32m    177\u001b[0m \u001b[38;5;124;03m\"\"\"\u001b[39;00m\n\u001b[1;32m    178\u001b[0m excs_to_catch \u001b[38;5;241m=\u001b[39m (\u001b[38;5;167;01mAttributeError\u001b[39;00m, \u001b[38;5;167;01mImportError\u001b[39;00m, \u001b[38;5;167;01mModuleNotFoundError\u001b[39;00m, \u001b[38;5;167;01mTypeError\u001b[39;00m)\n\u001b[0;32m--> 179\u001b[0m \u001b[38;5;28;01mwith\u001b[39;00m \u001b[43mget_handle\u001b[49m\u001b[43m(\u001b[49m\n\u001b[1;32m    180\u001b[0m \u001b[43m    \u001b[49m\u001b[43mfilepath_or_buffer\u001b[49m\u001b[43m,\u001b[49m\n\u001b[1;32m    181\u001b[0m \u001b[43m    \u001b[49m\u001b[38;5;124;43m\"\u001b[39;49m\u001b[38;5;124;43mrb\u001b[39;49m\u001b[38;5;124;43m\"\u001b[39;49m\u001b[43m,\u001b[49m\n\u001b[1;32m    182\u001b[0m \u001b[43m    \u001b[49m\u001b[43mcompression\u001b[49m\u001b[38;5;241;43m=\u001b[39;49m\u001b[43mcompression\u001b[49m\u001b[43m,\u001b[49m\n\u001b[1;32m    183\u001b[0m \u001b[43m    \u001b[49m\u001b[43mis_text\u001b[49m\u001b[38;5;241;43m=\u001b[39;49m\u001b[38;5;28;43;01mFalse\u001b[39;49;00m\u001b[43m,\u001b[49m\n\u001b[1;32m    184\u001b[0m \u001b[43m    \u001b[49m\u001b[43mstorage_options\u001b[49m\u001b[38;5;241;43m=\u001b[39;49m\u001b[43mstorage_options\u001b[49m\u001b[43m,\u001b[49m\n\u001b[1;32m    185\u001b[0m \u001b[43m\u001b[49m\u001b[43m)\u001b[49m \u001b[38;5;28;01mas\u001b[39;00m handles:\n\u001b[1;32m    186\u001b[0m     \u001b[38;5;66;03m# 1) try standard library Pickle\u001b[39;00m\n\u001b[1;32m    187\u001b[0m     \u001b[38;5;66;03m# 2) try pickle_compat (older pandas version) to handle subclass changes\u001b[39;00m\n\u001b[1;32m    188\u001b[0m     \u001b[38;5;66;03m# 3) try pickle_compat with latin-1 encoding upon a UnicodeDecodeError\u001b[39;00m\n\u001b[1;32m    190\u001b[0m     \u001b[38;5;28;01mtry\u001b[39;00m:\n\u001b[1;32m    191\u001b[0m         \u001b[38;5;66;03m# TypeError for Cython complaints about object.__new__ vs Tick.__new__\u001b[39;00m\n\u001b[1;32m    192\u001b[0m         \u001b[38;5;28;01mtry\u001b[39;00m:\n",
      "File \u001b[0;32m/.pyenv/versions/3.11.5/lib/python3.11/site-packages/pandas/io/common.py:868\u001b[0m, in \u001b[0;36mget_handle\u001b[0;34m(path_or_buf, mode, encoding, compression, memory_map, is_text, errors, storage_options)\u001b[0m\n\u001b[1;32m    859\u001b[0m         handle \u001b[38;5;241m=\u001b[39m \u001b[38;5;28mopen\u001b[39m(\n\u001b[1;32m    860\u001b[0m             handle,\n\u001b[1;32m    861\u001b[0m             ioargs\u001b[38;5;241m.\u001b[39mmode,\n\u001b[0;32m   (...)\u001b[0m\n\u001b[1;32m    864\u001b[0m             newline\u001b[38;5;241m=\u001b[39m\u001b[38;5;124m\"\u001b[39m\u001b[38;5;124m\"\u001b[39m,\n\u001b[1;32m    865\u001b[0m         )\n\u001b[1;32m    866\u001b[0m     \u001b[38;5;28;01melse\u001b[39;00m:\n\u001b[1;32m    867\u001b[0m         \u001b[38;5;66;03m# Binary mode\u001b[39;00m\n\u001b[0;32m--> 868\u001b[0m         handle \u001b[38;5;241m=\u001b[39m \u001b[38;5;28mopen\u001b[39m(handle, ioargs\u001b[38;5;241m.\u001b[39mmode)\n\u001b[1;32m    869\u001b[0m     handles\u001b[38;5;241m.\u001b[39mappend(handle)\n\u001b[1;32m    871\u001b[0m \u001b[38;5;66;03m# Convert BytesIO or file objects passed with an encoding\u001b[39;00m\n",
      "\u001b[0;31mFileNotFoundError\u001b[0m: [Errno 2] No such file or directory: '../output/recurrent_nn/grid_bar_peakshift_.pkl'"
     ]
    }
   ],
   "source": [
    "from ast import literal_eval\n",
    "df_ = pd.read_pickle(f'{model.dir}/grid_bar_peakshift_.pkl')\n",
    "df_['BC206'].loc[0]"
   ]
  },
  {
   "cell_type": "code",
   "execution_count": null,
   "id": "d6986e23-ced3-4163-991d-7ed4b5dd9d00",
   "metadata": {},
   "outputs": [],
   "source": []
  }
 ],
 "metadata": {
  "colab": {
   "provenance": []
  },
  "kernelspec": {
   "display_name": "Python 3 (ipykernel)",
   "language": "python",
   "name": "python3"
  },
  "language_info": {
   "codemirror_mode": {
    "name": "ipython",
    "version": 3
   },
   "file_extension": ".py",
   "mimetype": "text/x-python",
   "name": "python",
   "nbconvert_exporter": "python",
   "pygments_lexer": "ipython3",
   "version": "3.11.5"
  }
 },
 "nbformat": 4,
 "nbformat_minor": 5
}
