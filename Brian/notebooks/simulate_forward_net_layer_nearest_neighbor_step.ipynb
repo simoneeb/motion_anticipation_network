{
 "cells": [
  {
   "cell_type": "code",
   "execution_count": 1,
   "id": "c4eaf899",
   "metadata": {
    "tags": []
   },
   "outputs": [],
   "source": [
    "%load_ext autoreload\n",
    "%autoreload 2"
   ]
  },
  {
   "cell_type": "code",
   "execution_count": 2,
   "id": "11699a86-dc74-4929-80f2-ce3e0ae1a39d",
   "metadata": {
    "id": "11699a86-dc74-4929-80f2-ce3e0ae1a39d",
    "tags": []
   },
   "outputs": [],
   "source": [
    "import numpy as np\n",
    "import matplotlib.pyplot as plt\n",
    "import multiprocessing\n",
    "import os\n",
    "import sys\n",
    "from scipy.ndimage import gaussian_filter1d\n",
    "from scipy.signal import convolve\n",
    "from brian2 import *"
   ]
  },
  {
   "cell_type": "code",
   "execution_count": 3,
   "id": "67314c2d",
   "metadata": {
    "tags": []
   },
   "outputs": [],
   "source": [
    "sys.path.append(\"../lib\") # add code library to paths\n",
    "\n",
    "# add lib to path \n",
    "from model_beta import Model"
   ]
  },
  {
   "cell_type": "code",
   "execution_count": 5,
   "id": "24c667d2",
   "metadata": {
    "tags": []
   },
   "outputs": [],
   "source": [
    "# TODO: turn this into  script\n",
    "# os.mkdir('../output/')"
   ]
  },
  {
   "cell_type": "code",
   "execution_count": 6,
   "id": "84111023",
   "metadata": {
    "tags": []
   },
   "outputs": [
    {
     "name": "stdout",
     "output_type": "stream",
     "text": [
      "../output/forward_nn\n"
     ]
    }
   ],
   "source": [
    "netname = 'forward_nn'\n",
    "model = Model(netname)  # initiate the model\n"
   ]
  },
  {
   "cell_type": "code",
   "execution_count": 7,
   "id": "65b816f6",
   "metadata": {
    "tags": []
   },
   "outputs": [],
   "source": [
    "params = {\n",
    "'sig_c' : 0.05  ,    # bipolar receptive fied size ~ 1/5 of the actual size [mm]\n",
    "'tau1' : 0.04   ,    # excitation time constant of the temporal filter [s]\n",
    "'tau2' : 0.0876 ,    # rebound time constant [s]\n",
    "'bifw' : 0.     ,    # relative weight of rebound/excitation [1]\n",
    "\n",
    "'scale_mV' : 20.,     # UPDATED \n",
    "\n",
    "'tauA' : 0.15   ,     # time constant of amacrine cells [s]\n",
    "'tauB' : 0.08   ,     # time constant of bipolar cells [s]\n",
    "'tauG' : 0.01   ,     # time contant of ganglion cells [s]\n",
    "\n",
    "'wAB' : 10.     ,     # synaptic weight from bipolar to amacrine [Hz]\n",
    "'wBA' : 0.    ,     # synaptic weight from amacrine to bipolar [Hz]\n",
    "'wGB' : 4.0     ,     # synaptic weight from bipolar to gangion  [Hz].   #UPDATED\n",
    "'wGA' : -2.0      ,     # synaptic weight from amacrine  to gangion  [Hz]\n",
    "\n",
    "'slope' : 5     ,     # slope for ganglion cell recritifation [Hz/mV].   #UPDATED\n",
    "'threshold' : 0 ,     # threshold for ganglion cell recritifation [Hz/mV]\n",
    "'sig_pool' : 0.065 ,  # sigma for gaussian pooling in ganlion gells [mm]\n",
    "\n",
    "\n",
    "'spacing' : 0.005  ,  # spacing of cells on the lattice [mm]\n",
    "'dt' : 0.001      ,   # integration time step [s]\n",
    "'N' : 512          ,  # number of neurons in each layer [1]\n",
    "\n",
    "\n",
    "# idx = int(N/2)\n",
    "# b =  0.160         # half bar width [mm]\n",
    "# speed =  0.8       # speed [mm/s]  \n",
    "}\n"
   ]
  },
  {
   "cell_type": "code",
   "execution_count": 8,
   "id": "02f5027f",
   "metadata": {
    "tags": []
   },
   "outputs": [],
   "source": [
    "\n",
    "# create connectivity matrix TODO write a class for this !!!\n",
    "\n",
    "C = np.zeros((params['N'],params['N']))\n",
    "ii = np.arange(0,params['N']-1,1).astype(int)  # list of source cells for rightward connections\n",
    "ji = ii + 1                          # target cells of rightward connections\n",
    "\n",
    "\n",
    "C[ii,ji] = 1\n",
    "\n",
    "ii = np.arange(1,params['N'],1).astype(int)    # list of source cells for leftward connections\n",
    "ji = ii - 1                         # target cells of leftward connections\n",
    "\n",
    "C[ii,ji] = 1\n"
   ]
  },
  {
   "cell_type": "code",
   "execution_count": 9,
   "id": "fcec5515",
   "metadata": {
    "tags": []
   },
   "outputs": [],
   "source": [
    "\n",
    "model.set_params(params)\n",
    "model.set_connectivity(C)\n"
   ]
  },
  {
   "cell_type": "markdown",
   "id": "437f075a",
   "metadata": {},
   "source": [
    "# simulate response to global step full contrast"
   ]
  },
  {
   "cell_type": "code",
   "execution_count": 10,
   "id": "b14fcf72",
   "metadata": {
    "tags": []
   },
   "outputs": [],
   "source": [
    "\n",
    "dur = 3.                      # duration of the simulation [s]\n",
    "tps = int(dur/params['dt'])             # number of time-points in the simulation [1]\n",
    "time = np.arange(0,tps)*params['dt']    # time array for the simulation 1xtps, in [s]\n",
    "\n",
    "start = int(1./params['dt'])\n",
    "stop  = int(2./params['dt']) \n",
    "\n",
    "# initialize the stimulus\n",
    "S = np.zeros((params['N'],tps))\n",
    "S[:,start:stop] = 1\n"
   ]
  },
  {
   "cell_type": "code",
   "execution_count": 11,
   "id": "f9d13e0f-8b58-4eb1-bb2e-b257e7164071",
   "metadata": {
    "id": "f9d13e0f-8b58-4eb1-bb2e-b257e7164071",
    "tags": []
   },
   "outputs": [
    {
     "name": "stdout",
     "output_type": "stream",
     "text": [
      "../output/forward_nn/gStep\n"
     ]
    }
   ],
   "source": [
    "model.set_stimulus(S,'gStep')\n",
    "model.simulate()"
   ]
  },
  {
   "cell_type": "markdown",
   "id": "bc07ccca",
   "metadata": {},
   "source": [
    "# simulate response to global step  half contrast"
   ]
  },
  {
   "cell_type": "code",
   "execution_count": 12,
   "id": "05715ed6",
   "metadata": {
    "tags": []
   },
   "outputs": [],
   "source": [
    "\n",
    "dur = 3.                                # duration of the simulation [s]\n",
    "tps = int(dur/params['dt'])             # number of time-points in the simulation [1]\n",
    "time = np.arange(0,tps)*params['dt']    # time array for the simulation 1xtps, in [s]\n",
    "\n",
    "start = int(1./params['dt'])\n",
    "stop  = int(2./params['dt']) \n",
    "\n",
    "# initialize the stimulus\n",
    "S = np.zeros((params['N'],tps))\n",
    "S[:,start:stop] = .5\n"
   ]
  },
  {
   "cell_type": "code",
   "execution_count": 13,
   "id": "06e71829",
   "metadata": {
    "tags": []
   },
   "outputs": [
    {
     "name": "stdout",
     "output_type": "stream",
     "text": [
      "../output/forward_nn/gStephalf\n"
     ]
    }
   ],
   "source": [
    "model.set_stimulus(S,'gStephalf')\n",
    "model.simulate()"
   ]
  },
  {
   "cell_type": "code",
   "execution_count": null,
   "id": "16b50943",
   "metadata": {
    "tags": []
   },
   "outputs": [
    {
     "name": "stdout",
     "output_type": "stream",
     "text": [
      "../output/forward_nn/gStep_0.1\n",
      "../output/forward_nn/gStep_0.2\n",
      "../output/forward_nn/gStep_0.30000000000000004\n",
      "../output/forward_nn/gStep_0.4\n",
      "../output/forward_nn/gStep_0.5\n",
      "../output/forward_nn/gStep_0.6\n",
      "../output/forward_nn/gStep_0.7000000000000001\n",
      "../output/forward_nn/gStep_0.8\n",
      "../output/forward_nn/gStep_0.9\n"
     ]
    }
   ],
   "source": [
    "# loop over contrasts \n",
    "contrasts = np.arange(0.1,1.1,0.1)\n",
    "S = np.zeros((params['N'],tps))\n",
    "\n",
    "for c in contrasts: \n",
    "    S[:,start:stop] = c\n",
    "    stimname = f'gStep_{c}'\n",
    "    model.set_stimulus(S,stimname)\n",
    "    model.simulate()"
   ]
  },
  {
   "cell_type": "code",
   "execution_count": null,
   "id": "f87d87a5",
   "metadata": {
    "tags": []
   },
   "outputs": [],
   "source": [
    "# loop over paramerter and save response, steady state\n",
    "import pandas as pd\n",
    "import joblib\n",
    "from joblib import Parallel,delayed\n",
    "\n",
    "joblib.cpu_count()"
   ]
  },
  {
   "cell_type": "code",
   "execution_count": null,
   "id": "0bf432fb-5fe7-4960-8f3d-14b2dde53c33",
   "metadata": {
    "tags": []
   },
   "outputs": [],
   "source": [
    "\n",
    "\n",
    "wBAs = np.arange(1.,4.,0.2)\n",
    "tauAs =np.round(np.logspace(0,1)*0.02,3)\n",
    "wBAs = wBAs\n",
    "tauAs = tauAs[::2]\n",
    "\n",
    "print(len(wBAs),len(tauAs))\n",
    "# wBAs = wBAs[:2]\n",
    "# tauAs = tauAs[:2]\n",
    "\n",
    "df = pd.DataFrame(columns = ['BC206', 'VB*','wGA','tauA'])\n",
    "measure_point = int(2.9/params['dt'])\n",
    "\n",
    "\n",
    "\n",
    "dur = 4.                                # duration of the simulation [s]\n",
    "tps = int(dur/params['dt'])             # number of time-points in the simulation [1]\n",
    "time = np.arange(0,tps)*params['dt']    # time array for the simulation 1xtps, in [s]\n",
    "\n",
    "start = int(1./params['dt'])\n",
    "stop  = int(3./params['dt']) \n",
    "\n",
    "# initialize the stimulus\n",
    "S = np.zeros((params['N'],tps))\n",
    "S[:,start:stop] = 1\n",
    "\n",
    "model.set_stimulus(S,'gStep')\n",
    "model.dt = 0.01\n",
    "\n",
    "grid = np.array(np.meshgrid(wBAs,tauAs)).T.reshape(-1,2)\n",
    "\n",
    "def run_one(par):\n",
    "\n",
    "\n",
    "        wBA = par[0]\n",
    "        tauA= par[1]\n",
    "        params['tauA'] = tauA\n",
    "        params['wGA'] = -1*wBA\n",
    "\n",
    "        model.set_params(params)\n",
    "        BC206 = model.simulate(save = False)\n",
    "        VBstar = BC206[measure_point]\n",
    "    \n",
    "\n",
    "        dict = {'BC206': BC206,\n",
    "                'wGA': wBA,\n",
    "                'tauA': tauA,\n",
    "                'VB*' : VBstar\n",
    "                }\n",
    "        \n",
    "        return dict\n",
    "\n",
    "\n",
    "\n",
    "X = Parallel(n_jobs = 40, verbose=10)(delayed(run_one)(g) for g in grid)\n",
    "\n",
    "\n",
    "for xi in X:\n",
    "        df.loc[len(df)] = xi\n",
    "\n",
    "#save dataframe \n",
    "df.to_csv(f'{model.dir}/{model.stimname}/grid_steadystate.csv')\n"
   ]
  },
  {
   "cell_type": "code",
   "execution_count": null,
   "id": "7c07fa4b",
   "metadata": {
    "tags": []
   },
   "outputs": [],
   "source": [
    "plt.plot(df['BC206'].values[0])\n",
    "plt.plot(df['BC206'].values[1])\n",
    "plt.plot(df['BC206'].values[2])\n",
    "plt.plot(df['BC206'].values[3])"
   ]
  },
  {
   "cell_type": "code",
   "execution_count": null,
   "id": "df724af0",
   "metadata": {},
   "outputs": [],
   "source": []
  }
 ],
 "metadata": {
  "colab": {
   "provenance": []
  },
  "kernelspec": {
   "display_name": "Python 3 (ipykernel)",
   "language": "python",
   "name": "python3"
  },
  "language_info": {
   "codemirror_mode": {
    "name": "ipython",
    "version": 3
   },
   "file_extension": ".py",
   "mimetype": "text/x-python",
   "name": "python",
   "nbconvert_exporter": "python",
   "pygments_lexer": "ipython3",
   "version": "3.11.5"
  }
 },
 "nbformat": 4,
 "nbformat_minor": 5
}
