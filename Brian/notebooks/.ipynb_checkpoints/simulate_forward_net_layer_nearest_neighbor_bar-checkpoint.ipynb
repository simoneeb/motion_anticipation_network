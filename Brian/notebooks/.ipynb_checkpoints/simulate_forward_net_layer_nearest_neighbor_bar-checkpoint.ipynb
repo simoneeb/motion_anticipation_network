{
 "cells": [
  {
   "cell_type": "code",
   "execution_count": 1,
   "id": "c4eaf899",
   "metadata": {
    "tags": []
   },
   "outputs": [],
   "source": [
    "%load_ext autoreload\n",
    "%autoreload 2"
   ]
  },
  {
   "cell_type": "code",
   "execution_count": 2,
   "id": "11699a86-dc74-4929-80f2-ce3e0ae1a39d",
   "metadata": {
    "id": "11699a86-dc74-4929-80f2-ce3e0ae1a39d",
    "tags": []
   },
   "outputs": [],
   "source": [
    "import numpy as np\n",
    "import matplotlib.pyplot as plt\n",
    "import multiprocessing\n",
    "import os\n",
    "import sys\n",
    "from scipy.ndimage import gaussian_filter1d\n",
    "from scipy.signal import convolve\n",
    "from brian2 import *"
   ]
  },
  {
   "cell_type": "code",
   "execution_count": 3,
   "id": "67314c2d",
   "metadata": {
    "tags": []
   },
   "outputs": [],
   "source": [
    "sys.path.append(\"../lib\") # add code library to paths\n",
    "\n",
    "# add lib to path \n",
    "from model_beta import Model"
   ]
  },
  {
   "cell_type": "code",
   "execution_count": 4,
   "id": "24c667d2",
   "metadata": {
    "tags": []
   },
   "outputs": [],
   "source": [
    "# TODO: turn this into  script"
   ]
  },
  {
   "cell_type": "code",
   "execution_count": 5,
   "id": "84111023",
   "metadata": {
    "tags": []
   },
   "outputs": [
    {
     "name": "stdout",
     "output_type": "stream",
     "text": [
      "../output/forward_nn\n"
     ]
    }
   ],
   "source": [
    "netname = 'forward_nn'\n",
    "model = Model(netname)  # initiate the model\n"
   ]
  },
  {
   "cell_type": "code",
   "execution_count": 6,
   "id": "65b816f6",
   "metadata": {
    "tags": []
   },
   "outputs": [],
   "source": [
    "params = {\n",
    "'sig_c' : 0.05  ,    # bipolar receptive fied size ~ 1/5 of the actual size [mm]\n",
    "'tau1' : 0.04   ,    # excitation time constant of the temporal filter [s]\n",
    "'tau2' : 0.0876 ,    # rebound time constant [s]\n",
    "'bifw' : 0.     ,    # relative weight of rebound/excitation [1]\n",
    "\n",
    "'scale_mV' : 20.,     # UPDATED \n",
    "\n",
    "'tauA' : 0.15   ,     # time constant of amacrine cells [s]\n",
    "'tauB' : 0.08   ,     # time constant of bipolar cells [s]\n",
    "'tauG' : 0.01   ,     # time contant of ganglion cells [s]\n",
    "\n",
    "'wAB' : 10.     ,     # synaptic weight from bipolar to amacrine [Hz]\n",
    "'wBA' : 0.    ,     # synaptic weight from amacrine to bipolar [Hz]\n",
    "'wGB' : 4.0     ,     # synaptic weight from bipolar to gangion  [Hz].   #UPDATED\n",
    "'wGA' : -2.0      ,     # synaptic weight from amacrine  to gangion  [Hz]\n",
    "\n",
    "'slope' : 5     ,     # slope for ganglion cell recritifation [Hz/mV].   #UPDATED\n",
    "'threshold' : 0 ,     # threshold for ganglion cell recritifation [Hz/mV]\n",
    "'sig_pool' : 0.065 ,  # sigma for gaussian pooling in ganlion gells [mm]\n",
    "\n",
    "\n",
    "'spacing' : 0.005  ,  # spacing of cells on the lattice [mm]\n",
    "'dt' : 0.001      ,   # integration time step [s]\n",
    "'N' : 512          ,  # number of neurons in each layer [1]\n",
    "\n",
    "\n",
    "# idx = int(N/2)\n",
    "# b =  0.160         # half bar width [mm]\n",
    "# speed =  0.8       # speed [mm/s]  \n",
    "}"
   ]
  },
  {
   "cell_type": "code",
   "execution_count": 7,
   "id": "02f5027f",
   "metadata": {
    "tags": []
   },
   "outputs": [],
   "source": [
    "\n",
    "# create connectivity matrix TODO write a class for this !!!\n",
    "\n",
    "C = np.zeros((params['N'],params['N']))\n",
    "ii = np.arange(0,params['N']-1,1).astype(int)  # list of source cells for rightward connections\n",
    "ji = ii + 1                          # target cells of rightward connections\n",
    "\n",
    "\n",
    "C[ii,ji] = 1\n",
    "\n",
    "ii = np.arange(1,params['N'],1).astype(int)    # list of source cells for leftward connections\n",
    "ji = ii - 1                         # target cells of leftward connections\n",
    "\n",
    "C[ii,ji] = 1\n"
   ]
  },
  {
   "cell_type": "code",
   "execution_count": 8,
   "id": "fcec5515",
   "metadata": {
    "tags": []
   },
   "outputs": [],
   "source": [
    "\n",
    "model.set_params(params)\n",
    "model.set_connectivity(C)\n"
   ]
  },
  {
   "cell_type": "markdown",
   "id": "437f075a",
   "metadata": {},
   "source": [
    "# simulate response to moving bar at one speed"
   ]
  },
  {
   "cell_type": "code",
   "execution_count": 9,
   "id": "b14fcf72",
   "metadata": {
    "tags": []
   },
   "outputs": [
    {
     "name": "stdout",
     "output_type": "stream",
     "text": [
      "(512, 3199) 2.56\n"
     ]
    }
   ],
   "source": [
    "\n",
    "# function to make bar stimulus\n",
    "def bar(t, x, b, v):\n",
    "\n",
    "    if x >=-b+v*t and x <=b+v*t :\n",
    "        return 1\n",
    "    else:\n",
    "        return 0\n",
    "\n",
    "\n",
    "speed = 0.8\n",
    "b = 0.16\n",
    "L = params['N']*params['spacing']\n",
    "dt = params['dt']\n",
    "dur = L/speed                 # duration of the simulation [s]\n",
    "tps = int(dur/params['dt'])             # number of time-points in the simulation [1]\n",
    "\n",
    "# # #enfroce tps to pe power of 2 \n",
    "# import math\n",
    "# # pow = np.floor(math.log2(tps))+1\n",
    "# # tps = int(2**pow)\n",
    "# # print(pow,tps)\n",
    "# pow = np.floor(math.log2(tps))\n",
    "# tps = int(2**pow)\n",
    "# dt = dur/tps\n",
    "\n",
    "\n",
    "time = np.arange(0,tps)*dt    # time array for the simulation 1xtps, in [s]\n",
    "\n",
    "\n",
    "# make bar stimulus\n",
    "barstim = np.zeros((params['N'],tps))\n",
    "\n",
    "for n in range(params['N']):\n",
    "    for ti in range(tps):\n",
    "        xi = n*params['spacing']\n",
    "        barstim[n,ti] = bar(ti*dt,xi,b,speed)\n",
    "\n",
    "\n",
    "S = barstim\n",
    "\n",
    "print(S.shape,L)"
   ]
  },
  {
   "cell_type": "code",
   "execution_count": 10,
   "id": "f9d13e0f-8b58-4eb1-bb2e-b257e7164071",
   "metadata": {
    "id": "f9d13e0f-8b58-4eb1-bb2e-b257e7164071",
    "tags": []
   },
   "outputs": [
    {
     "name": "stdout",
     "output_type": "stream",
     "text": [
      "../output/forward_nn/bar_0.8\n"
     ]
    }
   ],
   "source": [
    "model.set_stimulus(S,f'bar_{speed}')\n",
    "model.simulate()"
   ]
  },
  {
   "cell_type": "code",
   "execution_count": 11,
   "id": "32af9993",
   "metadata": {
    "tags": []
   },
   "outputs": [
    {
     "data": {
      "text/plain": [
       "<matplotlib.image.AxesImage at 0x7ff05fe5c710>"
      ]
     },
     "execution_count": 11,
     "metadata": {},
     "output_type": "execute_result"
    },
    {
     "data": {
      "image/png": "[encoded data removed]",
      "text/plain": [
       "<Figure size 640x480 with 1 Axes>"
      ]
     },
     "metadata": {},
     "output_type": "display_data"
    }
   ],
   "source": [
    "plt.imshow(S)"
   ]
  },
  {
   "cell_type": "markdown",
   "id": "04675142-d596-41b8-8f21-a8ff0fff648a",
   "metadata": {},
   "source": [
    "# simulate response for multiple speeds"
   ]
  },
  {
   "cell_type": "code",
   "execution_count": 12,
   "id": "16b50943",
   "metadata": {
    "tags": []
   },
   "outputs": [
    {
     "name": "stdout",
     "output_type": "stream",
     "text": [
      "../output/forward_nn/bar_0.1\n",
      "../output/forward_nn/bar_0.2\n",
      "../output/forward_nn/bar_0.3\n",
      "../output/forward_nn/bar_0.4\n",
      "../output/forward_nn/bar_0.5\n",
      "../output/forward_nn/bar_0.6\n",
      "../output/forward_nn/bar_0.7\n",
      "../output/forward_nn/bar_0.8\n",
      "../output/forward_nn/bar_0.9\n",
      "../output/forward_nn/bar_1.0\n"
     ]
    }
   ],
   "source": [
    "# loop over speeds \n",
    "speeds = np.round(np.arange(0.1,1.1,0.1),1)\n",
    "\n",
    "for s in speeds: \n",
    "    \n",
    "    dur = L/s                 # duration of the simulation [s]\n",
    "    tps = int(dur/params['dt'])             # number of time-points in the simulation [1]\n",
    "    # print(tps)\n",
    "    # #enfroce tps to pe power of 2 \n",
    "    # import math\n",
    "    # # pow = np.floor(math.log2(tps))+1\n",
    "    # # tps = int(2**pow)\n",
    "    # # print(pow,tps)\n",
    "    # pow = np.floor(math.log2(tps))\n",
    "    # tps = int(2**pow)\n",
    "    # dt = dur/tps\n",
    "\n",
    "\n",
    "    time = np.arange(0,tps)*dt    # time array for the simulation 1xtps, in [s]\n",
    "\n",
    "\n",
    "    # make bar stimulus\n",
    "    barstim = np.zeros((params['N'],tps))\n",
    "\n",
    "    for n in range(params['N']):\n",
    "        for ti in range(tps):\n",
    "            xi = n*params['spacing']\n",
    "            barstim[n,ti] = bar(ti*dt,xi,b,s)\n",
    "\n",
    "    S = barstim\n",
    "    # print(S.shape)\n",
    "    stimname = f'bar_{s}'\n",
    "    model.set_stimulus(S,stimname)\n",
    "    model.simulate()"
   ]
  },
  {
   "cell_type": "code",
   "execution_count": 26,
   "id": "f9e981d1-ddf2-41a9-8db5-3d68dfe7676b",
   "metadata": {
    "tags": []
   },
   "outputs": [
    {
     "name": "stdout",
     "output_type": "stream",
     "text": [
      "1.03 10.299999999999999 0.1\n",
      "1.03 5.1499999999999995 0.2\n",
      "1.03 3.4333333333333336 0.3\n",
      "1.03 2.5749999999999997 0.4\n",
      "1.03 2.06 0.5\n",
      "1.03 1.7166666666666668 0.6\n",
      "1.03 1.4714285714285715 0.7\n",
      "1.03 1.2874999999999999 0.8\n",
      "1.03 1.1444444444444444 0.9\n",
      "1.03 1.03 1.0\n"
     ]
    }
   ],
   "source": [
    "\n",
    "t_bars = []\n",
    "\n",
    "t_max_Gs = []\n",
    "t_max_Bs = []\n",
    "\n",
    "t_shift_Gs = []\n",
    "t_shift_Bs = []\n",
    "\n",
    "ant_Gs = []\n",
    "ant_Bs = []\n",
    "\n",
    "v_max_Gs = []\n",
    "v_max_Bs = []\n",
    "\n",
    "for s in speeds:\n",
    "\n",
    "    stimname = f'bar_{s}'\n",
    "    sigB = np.load(f'../output/{netname}/{stimname}/BC_grid_{stimname}.npy')\n",
    "    sigA = np.load(f'../output/{netname}/{stimname}/AC_grid_{stimname}.npy')\n",
    "    sigG = np.load(f'../output/{netname}/{stimname}/GC_grid_{stimname}.npy')\n",
    "    stim = np.load(f'../output/{netname}/{stimname}/stim_grid_{stimname}.npy')\n",
    "\n",
    "    N = 206                   # choolse middle cell\n",
    "    x = N * params['spacing'] # calculate cell position\n",
    "    t_bar = x/s               # calculate t_bar\n",
    "\n",
    "    print(x,t_bar,s)\n",
    "    t_max_G = np.argmax(sigG[N,:])*params['dt'] # measure t_max\n",
    "    t_max_B = np.argmax(sigB[N,:])*params['dt'] # measure t_max\n",
    "    \n",
    "\n",
    "    t_shift_G = t_bar-t_max_G # measure peah shift\n",
    "    t_shift_B = t_bar-t_max_B # measure peah shift\n",
    "    \n",
    "    \n",
    "    ant_G = t_shift_G*s     # calculate anticipation\n",
    "    ant_B = t_shift_B*s     # calculate anticipation\n",
    "\n",
    "    \n",
    "    v_max_G = np.max(sigG[N,:])  # measure max\n",
    "    v_max_B = np.max(sigB[N,:])  # measure max\n",
    "\n",
    "    \n",
    "    t_bars.append(t_bar)\n",
    "    t_max_Gs.append(t_max_G)\n",
    "    t_max_Bs.append(t_max_B)\n",
    "    \n",
    "    t_shift_Gs.append(t_shift_G)\n",
    "    t_shift_Bs.append(t_shift_B)\n",
    "    \n",
    "    ant_Gs.append(ant_G)\n",
    "    ant_Bs.append(ant_B)\n",
    "    \n",
    "    v_max_Gs.append(v_max_G)\n",
    "    v_max_Bs.append(v_max_B)\n",
    "    \n",
    "    \n",
    "# TODO   \n",
    "# make df\n",
    "# save as a separate file\n",
    "    \n"
   ]
  },
  {
   "cell_type": "code",
   "execution_count": 35,
   "id": "a1d67d73-4327-4bc4-8bd5-2f056e4eb789",
   "metadata": {
    "tags": []
   },
   "outputs": [
    {
     "data": {
      "text/plain": [
       "<matplotlib.legend.Legend at 0x7ff05bdbbe90>"
      ]
     },
     "execution_count": 35,
     "metadata": {},
     "output_type": "execute_result"
    },
    {
     "data": {
      "image/png": "[encoded data removed]",
      "text/plain": [
       "<Figure size 1000x200 with 5 Axes>"
      ]
     },
     "metadata": {},
     "output_type": "display_data"
    }
   ],
   "source": [
    "# TODO: copy this to plot file\n",
    "fig = plt.figure(figsize = (10,2))\n",
    "gs = fig.add_gridspec(1,5)\n",
    "fig.subplots_adjust(wspace = 0.6)\n",
    "\n",
    "ax = fig.add_subplot(gs[0,0])\n",
    "ax.scatter(speeds,t_bars,label = 'bar', color = 'grey')\n",
    "ax.set_title('$t_{bar}$', loc = 'left')\n",
    "ax.set_xlabel('$v [mm/s]$')\n",
    "ax.set_xlabel('$v [mm/s]$')\n",
    "ax.set_ylabel('$[s]$')\n",
    "\n",
    "ax = fig.add_subplot(gs[0,1])\n",
    "ax.scatter(speeds,t_max_Gs, label = 'G', color = 'k')\n",
    "ax.scatter(speeds,t_max_Bs, label = 'B', color = 'b')\n",
    "ax.set_title('$t_{peak}$', loc = 'left')\n",
    "ax.set_xlabel('$v [mm/s]$')\n",
    "ax.set_ylabel('$[s]$')\n",
    "\n",
    "\n",
    "\n",
    "ax = fig.add_subplot(gs[0,2])\n",
    "ax.scatter(speeds,t_shift_Gs, color = 'k')\n",
    "ax.scatter(speeds,t_shift_Bs, color = 'b')\n",
    "ax.axhline(0,color = 'k', linestyle = ':')\n",
    "ax.set_title('$\\delta t$', loc = 'left')\n",
    "ax.set_xlabel('$v [mm/s]$')\n",
    "ax.set_ylabel('$[s]$')\n",
    "\n",
    "\n",
    "\n",
    "ax = fig.add_subplot(gs[0,3])\n",
    "ax.scatter(speeds,ant_Gs, color = 'k')\n",
    "ax.scatter(speeds,ant_Bs, color = 'b')\n",
    "ax.axhline(0,color = 'k', linestyle = ':')\n",
    "ax.set_title('$\\delta X$', loc = 'left')\n",
    "ax.set_xlabel('$v [mm/s]$')\n",
    "ax.set_ylabel('$[mm]$')\n",
    "\n",
    "\n",
    "\n",
    "ax = fig.add_subplot(gs[0,4])\n",
    "ax.scatter(speeds,v_max_Gs, color = 'k')\n",
    "ax.scatter(speeds,v_max_Bs, color = 'b')\n",
    "ax.set_title('$V_{peak} $', loc = 'left')\n",
    "ax.set_xlabel('$v [mm/s]$')\n",
    "ax.set_ylabel('$[mV]$')\n",
    "\n",
    "fig.legend()"
   ]
  },
  {
   "cell_type": "markdown",
   "id": "237e3636-525b-4cd5-8334-e19ce840bbe9",
   "metadata": {},
   "source": [
    "# loop over parameter and extract peak, anticipation, preferred speed "
   ]
  },
  {
   "cell_type": "code",
   "execution_count": null,
   "id": "f16123af",
   "metadata": {},
   "outputs": [],
   "source": []
  }
 ],
 "metadata": {
  "colab": {
   "provenance": []
  },
  "kernelspec": {
   "display_name": "Python 3 (ipykernel)",
   "language": "python",
   "name": "python3"
  },
  "language_info": {
   "codemirror_mode": {
    "name": "ipython",
    "version": 3
   },
   "file_extension": ".py",
   "mimetype": "text/x-python",
   "name": "python",
   "nbconvert_exporter": "python",
   "pygments_lexer": "ipython3",
   "version": "3.11.5"
  }
 },
 "nbformat": 4,
 "nbformat_minor": 5
}
