{
 "cells": [
  {
   "cell_type": "code",
   "execution_count": 1,
   "id": "c4eaf899",
   "metadata": {
    "tags": []
   },
   "outputs": [],
   "source": [
    "%load_ext autoreload\n",
    "%autoreload 2"
   ]
  },
  {
   "cell_type": "code",
   "execution_count": 2,
   "id": "11699a86-dc74-4929-80f2-ce3e0ae1a39d",
   "metadata": {
    "id": "11699a86-dc74-4929-80f2-ce3e0ae1a39d",
    "tags": []
   },
   "outputs": [],
   "source": [
    "import numpy as np\n",
    "import matplotlib.pyplot as plt\n",
    "import multiprocessing\n",
    "import os\n",
    "import sys\n",
    "from scipy.ndimage import gaussian_filter1d\n",
    "from scipy.signal import convolve\n",
    "from brian2 import *"
   ]
  },
  {
   "cell_type": "code",
   "execution_count": 3,
   "id": "67314c2d",
   "metadata": {
    "tags": []
   },
   "outputs": [],
   "source": [
    "sys.path.append(\"../lib\") # add code library to paths\n",
    "\n",
    "# add lib to path \n",
    "from model_beta import Model"
   ]
  },
  {
   "cell_type": "code",
   "execution_count": 4,
   "id": "24c667d2",
   "metadata": {
    "tags": []
   },
   "outputs": [],
   "source": [
    "# TODO: turn this into  script\n",
    "# os.mkdir('../output/')"
   ]
  },
  {
   "cell_type": "code",
   "execution_count": 5,
   "id": "84111023",
   "metadata": {
    "tags": []
   },
   "outputs": [
    {
     "name": "stdout",
     "output_type": "stream",
     "text": [
      "../output/forward_nn\n"
     ]
    }
   ],
   "source": [
    "netname = 'forward_nn'\n",
    "model = Model(netname)  # initiate the model\n"
   ]
  },
  {
   "cell_type": "code",
   "execution_count": 6,
   "id": "65b816f6",
   "metadata": {
    "tags": []
   },
   "outputs": [],
   "source": [
    "params = {\n",
    "'sig_c' : 0.05  ,    # bipolar receptive fied size ~ 1/5 of the actual size [mm]\n",
    "'tau1' : 0.04   ,    # excitation time constant of the temporal filter [s]\n",
    "'tau2' : 0.0876 ,    # rebound time constant [s]\n",
    "'bifw' : 0.     ,    # relative weight of rebound/excitation [1]\n",
    "\n",
    "'scale_mV' : 20.,     # UPDATED \n",
    "\n",
    "'tauA' : 0.15   ,     # time constant of amacrine cells [s]\n",
    "'tauB' : 0.08   ,     # time constant of bipolar cells [s]\n",
    "'tauG' : 0.01   ,     # time contant of ganglion cells [s]\n",
    "\n",
    "'wAB' : 10.     ,     # synaptic weight from bipolar to amacrine [Hz]\n",
    "'wBA' : 0.    ,     # synaptic weight from amacrine to bipolar [Hz]\n",
    "'wGB' : 4.0     ,     # synaptic weight from bipolar to gangion  [Hz].   #UPDATED\n",
    "'wGA' : -2.0      ,     # synaptic weight from amacrine  to gangion  [Hz]\n",
    "\n",
    "'slope' : 5     ,     # slope for ganglion cell recritifation [Hz/mV].   #UPDATED\n",
    "'threshold' : 0 ,     # threshold for ganglion cell recritifation [Hz/mV]\n",
    "'sig_pool' : 0.065 ,  # sigma for gaussian pooling in ganlion gells [mm]\n",
    "\n",
    "\n",
    "'spacing' : 0.005  ,  # spacing of cells on the lattice [mm]\n",
    "'dt' : 0.001      ,   # integration time step [s]\n",
    "'N' : 512          ,  # number of neurons in each layer [1]\n",
    "\n",
    "\n",
    "# idx = int(N/2)\n",
    "# b =  0.160         # half bar width [mm]\n",
    "# speed =  0.8       # speed [mm/s]  \n",
    "}\n"
   ]
  },
  {
   "cell_type": "code",
   "execution_count": 7,
   "id": "02f5027f",
   "metadata": {
    "tags": []
   },
   "outputs": [],
   "source": [
    "\n",
    "# create connectivity matrix TODO write a class for this !!!\n",
    "\n",
    "C = np.zeros((params['N'],params['N']))\n",
    "ii = np.arange(0,params['N']-1,1).astype(int)  # list of source cells for rightward connections\n",
    "ji = ii + 1                          # target cells of rightward connections\n",
    "\n",
    "\n",
    "C[ii,ji] = 1\n",
    "\n",
    "ii = np.arange(1,params['N'],1).astype(int)    # list of source cells for leftward connections\n",
    "ji = ii - 1                         # target cells of leftward connections\n",
    "\n",
    "C[ii,ji] = 1\n"
   ]
  },
  {
   "cell_type": "code",
   "execution_count": 8,
   "id": "fcec5515",
   "metadata": {
    "tags": []
   },
   "outputs": [],
   "source": [
    "\n",
    "model.set_params(params)\n",
    "model.set_connectivity(C)\n"
   ]
  },
  {
   "cell_type": "markdown",
   "id": "437f075a",
   "metadata": {},
   "source": [
    "# simulate response to global step full contrast"
   ]
  },
  {
   "cell_type": "code",
   "execution_count": 9,
   "id": "b14fcf72",
   "metadata": {
    "tags": []
   },
   "outputs": [],
   "source": [
    "\n",
    "dur = 3.                      # duration of the simulation [s]\n",
    "tps = int(dur/params['dt'])             # number of time-points in the simulation [1]\n",
    "time = np.arange(0,tps)*params['dt']    # time array for the simulation 1xtps, in [s]\n",
    "\n",
    "start = int(1./params['dt'])\n",
    "stop  = int(2./params['dt']) \n",
    "\n",
    "# initialize the stimulus\n",
    "S = np.zeros((params['N'],tps))\n",
    "S[:,start:stop] = 1\n"
   ]
  },
  {
   "cell_type": "code",
   "execution_count": 10,
   "id": "f9d13e0f-8b58-4eb1-bb2e-b257e7164071",
   "metadata": {
    "id": "f9d13e0f-8b58-4eb1-bb2e-b257e7164071",
    "tags": []
   },
   "outputs": [
    {
     "ename": "KeyboardInterrupt",
     "evalue": "",
     "output_type": "error",
     "traceback": [
      "\u001b[0;31m---------------------------------------------------------------------------\u001b[0m",
      "\u001b[0;31mKeyboardInterrupt\u001b[0m                         Traceback (most recent call last)",
      "Cell \u001b[0;32mIn[10], line 2\u001b[0m\n\u001b[1;32m      1\u001b[0m model\u001b[38;5;241m.\u001b[39mset_stimulus(S,\u001b[38;5;124m'\u001b[39m\u001b[38;5;124mgStep\u001b[39m\u001b[38;5;124m'\u001b[39m)\n\u001b[0;32m----> 2\u001b[0m \u001b[43mmodel\u001b[49m\u001b[38;5;241;43m.\u001b[39;49m\u001b[43msimulate\u001b[49m\u001b[43m(\u001b[49m\u001b[43m)\u001b[49m\n",
      "File \u001b[0;32m~/Repositories/motion_anticipation_network/Brian/notebooks/../lib/model_beta.py:230\u001b[0m, in \u001b[0;36mModel.simulate\u001b[0;34m(self, save)\u001b[0m\n\u001b[1;32m    228\u001b[0m \u001b[38;5;66;03m# assign gaussian weighting to synapses from BC to GC\u001b[39;00m\n\u001b[1;32m    229\u001b[0m \u001b[38;5;28;01mfor\u001b[39;00m n \u001b[38;5;129;01min\u001b[39;00m \u001b[38;5;28mrange\u001b[39m(\u001b[38;5;28mself\u001b[39m\u001b[38;5;241m.\u001b[39mN):\n\u001b[0;32m--> 230\u001b[0m     \u001b[43msyngb\u001b[49m\u001b[38;5;241;43m.\u001b[39;49m\u001b[43mwsyn\u001b[49m\u001b[43m[\u001b[49m\u001b[43mn\u001b[49m\u001b[43m,\u001b[49m\u001b[43m:\u001b[49m\u001b[43m]\u001b[49m \u001b[38;5;241m=\u001b[39m\u001b[38;5;28mself\u001b[39m\u001b[38;5;241m.\u001b[39mwGB \u001b[38;5;241m*\u001b[39m DOG(np\u001b[38;5;241m.\u001b[39marange(\u001b[38;5;28mself\u001b[39m\u001b[38;5;241m.\u001b[39mN),n,\u001b[38;5;28mself\u001b[39m\u001b[38;5;241m.\u001b[39msig_pool\u001b[38;5;241m/\u001b[39m\u001b[38;5;28mself\u001b[39m\u001b[38;5;241m.\u001b[39mspacing)\u001b[38;5;241m*\u001b[39mHz\n\u001b[1;32m    231\u001b[0m     synga\u001b[38;5;241m.\u001b[39mwsyn[n,:] \u001b[38;5;241m=\u001b[39m\u001b[38;5;28mself\u001b[39m\u001b[38;5;241m.\u001b[39mwGA \u001b[38;5;241m*\u001b[39m DOG(np\u001b[38;5;241m.\u001b[39marange(\u001b[38;5;28mself\u001b[39m\u001b[38;5;241m.\u001b[39mN),n,\u001b[38;5;28mself\u001b[39m\u001b[38;5;241m.\u001b[39msig_pool\u001b[38;5;241m/\u001b[39m\u001b[38;5;28mself\u001b[39m\u001b[38;5;241m.\u001b[39mspacing)\u001b[38;5;241m*\u001b[39mHz\n\u001b[1;32m    234\u001b[0m \u001b[38;5;66;03m# transform input as timed array for integration\u001b[39;00m\n",
      "File \u001b[0;32m~/miniconda3/envs/ma_comp/lib/python3.13/site-packages/brian2/core/variables.py:1007\u001b[0m, in \u001b[0;36mVariableView.__setitem__\u001b[0;34m(self, item, value)\u001b[0m\n\u001b[1;32m   1006\u001b[0m \u001b[38;5;28;01mdef\u001b[39;00m\u001b[38;5;250m \u001b[39m\u001b[38;5;21m__setitem__\u001b[39m(\u001b[38;5;28mself\u001b[39m, item, value):\n\u001b[0;32m-> 1007\u001b[0m     \u001b[38;5;28;43mself\u001b[39;49m\u001b[38;5;241;43m.\u001b[39;49m\u001b[43mset_item\u001b[49m\u001b[43m(\u001b[49m\u001b[43mitem\u001b[49m\u001b[43m,\u001b[49m\u001b[43m \u001b[49m\u001b[43mvalue\u001b[49m\u001b[43m,\u001b[49m\u001b[43m \u001b[49m\u001b[43mlevel\u001b[49m\u001b[38;5;241;43m=\u001b[39;49m\u001b[38;5;241;43m1\u001b[39;49m\u001b[43m)\u001b[49m\n",
      "File \u001b[0;32m~/miniconda3/envs/ma_comp/lib/python3.13/site-packages/brian2/core/variables.py:1004\u001b[0m, in \u001b[0;36mVariableView.set_item\u001b[0;34m(self, item, value, level, namespace)\u001b[0m\n\u001b[1;32m   1000\u001b[0m     \u001b[38;5;28mself\u001b[39m\u001b[38;5;241m.\u001b[39mset_with_expression(\n\u001b[1;32m   1001\u001b[0m         item, value, check_units\u001b[38;5;241m=\u001b[39mcheck_units, run_namespace\u001b[38;5;241m=\u001b[39mnamespace\n\u001b[1;32m   1002\u001b[0m     )\n\u001b[1;32m   1003\u001b[0m \u001b[38;5;28;01melse\u001b[39;00m:  \u001b[38;5;66;03m# No string expressions involved\u001b[39;00m\n\u001b[0;32m-> 1004\u001b[0m     \u001b[38;5;28;43mself\u001b[39;49m\u001b[38;5;241;43m.\u001b[39;49m\u001b[43mset_with_index_array\u001b[49m\u001b[43m(\u001b[49m\u001b[43mitem\u001b[49m\u001b[43m,\u001b[49m\u001b[43m \u001b[49m\u001b[43mvalue\u001b[49m\u001b[43m,\u001b[49m\u001b[43m \u001b[49m\u001b[43mcheck_units\u001b[49m\u001b[38;5;241;43m=\u001b[39;49m\u001b[43mcheck_units\u001b[49m\u001b[43m)\u001b[49m\n",
      "File \u001b[0;32m~/miniconda3/envs/ma_comp/lib/python3.13/site-packages/brian2/core/base.py:346\u001b[0m, in \u001b[0;36mdevice_override.<locals>.device_override_decorator.<locals>.device_override_decorated_function\u001b[0;34m(*args, **kwds)\u001b[0m\n\u001b[1;32m    344\u001b[0m     \u001b[38;5;28;01mreturn\u001b[39;00m \u001b[38;5;28mgetattr\u001b[39m(curdev, name)(\u001b[38;5;241m*\u001b[39margs, \u001b[38;5;241m*\u001b[39m\u001b[38;5;241m*\u001b[39mkwds)\n\u001b[1;32m    345\u001b[0m \u001b[38;5;28;01melse\u001b[39;00m:\n\u001b[0;32m--> 346\u001b[0m     \u001b[38;5;28;01mreturn\u001b[39;00m \u001b[43mfunc\u001b[49m\u001b[43m(\u001b[49m\u001b[38;5;241;43m*\u001b[39;49m\u001b[43margs\u001b[49m\u001b[43m,\u001b[49m\u001b[43m \u001b[49m\u001b[38;5;241;43m*\u001b[39;49m\u001b[38;5;241;43m*\u001b[39;49m\u001b[43mkwds\u001b[49m\u001b[43m)\u001b[49m\n",
      "File \u001b[0;32m~/miniconda3/envs/ma_comp/lib/python3.13/site-packages/brian2/core/variables.py:1327\u001b[0m, in \u001b[0;36mVariableView.set_with_index_array\u001b[0;34m(self, item, value, check_units)\u001b[0m\n\u001b[1;32m   1325\u001b[0m     indices \u001b[38;5;241m=\u001b[39m \u001b[38;5;28mslice\u001b[39m(\u001b[38;5;28;01mNone\u001b[39;00m)\n\u001b[1;32m   1326\u001b[0m \u001b[38;5;28;01melse\u001b[39;00m:\n\u001b[0;32m-> 1327\u001b[0m     indices \u001b[38;5;241m=\u001b[39m \u001b[38;5;28;43mself\u001b[39;49m\u001b[38;5;241;43m.\u001b[39;49m\u001b[43mindexing\u001b[49m\u001b[43m(\u001b[49m\u001b[43mitem\u001b[49m\u001b[43m,\u001b[49m\u001b[43m \u001b[49m\u001b[38;5;28;43mself\u001b[39;49m\u001b[38;5;241;43m.\u001b[39;49m\u001b[43mindex_var\u001b[49m\u001b[43m)\u001b[49m\n\u001b[1;32m   1329\u001b[0m     q \u001b[38;5;241m=\u001b[39m Quantity(value)\n\u001b[1;32m   1330\u001b[0m     \u001b[38;5;28;01mif\u001b[39;00m \u001b[38;5;28mlen\u001b[39m(q\u001b[38;5;241m.\u001b[39mshape):\n",
      "File \u001b[0;32m~/miniconda3/envs/ma_comp/lib/python3.13/site-packages/brian2/synapses/synapses.py:627\u001b[0m, in \u001b[0;36mSynapticIndexing.__call__\u001b[0;34m(self, index, index_var)\u001b[0m\n\u001b[1;32m    625\u001b[0m     \u001b[38;5;28;01melse\u001b[39;00m:\n\u001b[1;32m    626\u001b[0m         j_indices \u001b[38;5;241m=\u001b[39m \u001b[38;5;28mself\u001b[39m\u001b[38;5;241m.\u001b[39mtarget\u001b[38;5;241m.\u001b[39m_indices(j_indices)\n\u001b[0;32m--> 627\u001b[0m     post_synapses \u001b[38;5;241m=\u001b[39m \u001b[43mfind_synapses\u001b[49m\u001b[43m(\u001b[49m\u001b[43mj_indices\u001b[49m\u001b[43m,\u001b[49m\u001b[43m \u001b[49m\u001b[38;5;28;43mself\u001b[39;49m\u001b[38;5;241;43m.\u001b[39;49m\u001b[43msynaptic_post\u001b[49m\u001b[38;5;241;43m.\u001b[39;49m\u001b[43mget_value\u001b[49m\u001b[43m(\u001b[49m\u001b[43m)\u001b[49m\u001b[43m)\u001b[49m\n\u001b[1;32m    628\u001b[0m \u001b[38;5;28;01mexcept\u001b[39;00m \u001b[38;5;167;01mIndexError\u001b[39;00m:\n\u001b[1;32m    629\u001b[0m     post_synapses \u001b[38;5;241m=\u001b[39m np\u001b[38;5;241m.\u001b[39marray([], dtype\u001b[38;5;241m=\u001b[39mnp\u001b[38;5;241m.\u001b[39mint32)\n",
      "File \u001b[0;32m~/miniconda3/envs/ma_comp/lib/python3.13/site-packages/brian2/synapses/synapses.py:526\u001b[0m, in \u001b[0;36mfind_synapses\u001b[0;34m(index, synaptic_neuron)\u001b[0m\n\u001b[1;32m    524\u001b[0m         targets \u001b[38;5;241m=\u001b[39m np\u001b[38;5;241m.\u001b[39mflatnonzero(synaptic_neuron \u001b[38;5;241m==\u001b[39m neuron)\n\u001b[1;32m    525\u001b[0m         synapses\u001b[38;5;241m.\u001b[39mextend(targets)\n\u001b[0;32m--> 526\u001b[0m     synapses \u001b[38;5;241m=\u001b[39m \u001b[43mnp\u001b[49m\u001b[38;5;241;43m.\u001b[39;49m\u001b[43marray\u001b[49m\u001b[43m(\u001b[49m\u001b[43msynapses\u001b[49m\u001b[43m,\u001b[49m\u001b[43m \u001b[49m\u001b[43mdtype\u001b[49m\u001b[38;5;241;43m=\u001b[39;49m\u001b[43mnp\u001b[49m\u001b[38;5;241;43m.\u001b[39;49m\u001b[43mint32\u001b[49m\u001b[43m)\u001b[49m\n\u001b[1;32m    528\u001b[0m \u001b[38;5;28;01mreturn\u001b[39;00m synapses\n",
      "\u001b[0;31mKeyboardInterrupt\u001b[0m: "
     ]
    }
   ],
   "source": [
    "model.set_stimulus(S,'gStep')\n",
    "model.simulate()"
   ]
  },
  {
   "cell_type": "markdown",
   "id": "bc07ccca",
   "metadata": {},
   "source": [
    "# simulate response to global step  half contrast"
   ]
  },
  {
   "cell_type": "code",
   "execution_count": 12,
   "id": "05715ed6",
   "metadata": {
    "tags": []
   },
   "outputs": [],
   "source": [
    "\n",
    "dur = 3.                                # duration of the simulation [s]\n",
    "tps = int(dur/params['dt'])             # number of time-points in the simulation [1]\n",
    "time = np.arange(0,tps)*params['dt']    # time array for the simulation 1xtps, in [s]\n",
    "\n",
    "start = int(1./params['dt'])\n",
    "stop  = int(2./params['dt']) \n",
    "\n",
    "# initialize the stimulus\n",
    "S = np.zeros((params['N'],tps))\n",
    "S[:,start:stop] = .5\n"
   ]
  },
  {
   "cell_type": "code",
   "execution_count": 13,
   "id": "06e71829",
   "metadata": {
    "tags": []
   },
   "outputs": [
    {
     "name": "stdout",
     "output_type": "stream",
     "text": [
      "../output/forward_nn/gStephalf\n"
     ]
    }
   ],
   "source": [
    "model.set_stimulus(S,'gStephalf')\n",
    "model.simulate()"
   ]
  },
  {
   "cell_type": "code",
   "execution_count": null,
   "id": "16b50943",
   "metadata": {
    "tags": []
   },
   "outputs": [
    {
     "name": "stdout",
     "output_type": "stream",
     "text": [
      "../output/forward_nn/gStep_0.1\n",
      "../output/forward_nn/gStep_0.2\n",
      "../output/forward_nn/gStep_0.30000000000000004\n",
      "../output/forward_nn/gStep_0.4\n",
      "../output/forward_nn/gStep_0.5\n",
      "../output/forward_nn/gStep_0.6\n",
      "../output/forward_nn/gStep_0.7000000000000001\n",
      "../output/forward_nn/gStep_0.8\n",
      "../output/forward_nn/gStep_0.9\n"
     ]
    }
   ],
   "source": [
    "# loop over contrasts \n",
    "contrasts = np.arange(0.1,1.1,0.1)\n",
    "S = np.zeros((params['N'],tps))\n",
    "\n",
    "for c in contrasts: \n",
    "    S[:,start:stop] = c\n",
    "    stimname = f'gStep_{c}'\n",
    "    model.set_stimulus(S,stimname)\n",
    "    model.simulate()"
   ]
  },
  {
   "cell_type": "code",
   "execution_count": null,
   "id": "f87d87a5",
   "metadata": {
    "tags": []
   },
   "outputs": [],
   "source": [
    "# loop over paramerter and save response, steady state\n",
    "import pandas as pd\n",
    "import joblib\n",
    "from joblib import Parallel,delayed\n",
    "\n",
    "joblib.cpu_count()"
   ]
  },
  {
   "cell_type": "code",
   "execution_count": null,
   "id": "0bf432fb-5fe7-4960-8f3d-14b2dde53c33",
   "metadata": {
    "tags": []
   },
   "outputs": [],
   "source": [
    "wBAs = np.arange(1.,4.,0.2)\n",
    "tauAs =np.round(np.logspace(0,1)*0.02,3)\n",
    "wBAs = wBAs\n",
    "tauAs = tauAs[::2]\n",
    "\n",
    "print(len(wBAs),len(tauAs))\n",
    "# wBAs = wBAs[:2]\n",
    "# tauAs = tauAs[:2]\n",
    "\n",
    "df = pd.DataFrame(columns = ['BC206', 'VB*','wGA','tauA'])\n",
    "measure_point = int(2.9/params['dt'])\n",
    "\n",
    "\n",
    "\n",
    "dur = 4.                                # duration of the simulation [s]\n",
    "tps = int(dur/params['dt'])             # number of time-points in the simulation [1]\n",
    "time = np.arange(0,tps)*params['dt']    # time array for the simulation 1xtps, in [s]\n",
    "\n",
    "start = int(1./params['dt'])\n",
    "stop  = int(3./params['dt']) \n",
    "\n",
    "# initialize the stimulus\n",
    "S = np.zeros((params['N'],tps))\n",
    "S[:,start:stop] = 1\n",
    "\n",
    "model.set_stimulus(S,'gStep')\n",
    "model.dt = 0.01\n",
    "\n",
    "grid = np.array(np.meshgrid(wBAs,tauAs)).T.reshape(-1,2)\n",
    "\n",
    "def run_one(par):\n",
    "\n",
    "\n",
    "        wBA = par[0]\n",
    "        tauA= par[1]\n",
    "        params['tauA'] = tauA\n",
    "        params['wGA'] = -1*wBA\n",
    "\n",
    "        model.set_params(params)\n",
    "        _,GC206 = model.simulate(save = False)\n",
    "        VBstar = BC206[measure_point]\n",
    "    \n",
    "\n",
    "        dict = {'GC206': GC206,\n",
    "                'wGA': wBA,\n",
    "                'tauA': tauA,\n",
    "                'VB*' : VBstar\n",
    "                }\n",
    "        \n",
    "        return dict\n",
    "\n",
    "\n",
    "\n",
    "X = Parallel(n_jobs = 40, verbose=10)(delayed(run_one)(g) for g in grid)\n",
    "\n",
    "\n",
    "for xi in X:\n",
    "        df.loc[len(df)] = xi\n",
    "\n",
    "#save dataframe \n",
    "df.to_csv(f'{model.dir}/{model.stimname}/grid_steadystate.csv')\n"
   ]
  },
  {
   "cell_type": "code",
   "execution_count": null,
   "id": "7c07fa4b",
   "metadata": {
    "tags": []
   },
   "outputs": [],
   "source": [
    "plt.plot(df['BC206'].values[0])\n",
    "plt.plot(df['BC206'].values[1])\n",
    "plt.plot(df['BC206'].values[2])\n",
    "plt.plot(df['BC206'].values[3])"
   ]
  },
  {
   "cell_type": "code",
   "execution_count": null,
   "id": "df724af0",
   "metadata": {},
   "outputs": [],
   "source": []
  },
  {
   "cell_type": "code",
   "execution_count": null,
   "id": "52e4416d-a56c-4076-80c1-9ebff1239f6d",
   "metadata": {},
   "outputs": [],
   "source": []
  }
 ],
 "metadata": {
  "colab": {
   "provenance": []
  },
  "kernelspec": {
   "display_name": "Python 3 (ipykernel)",
   "language": "python",
   "name": "python3"
  },
  "language_info": {
   "codemirror_mode": {
    "name": "ipython",
    "version": 3
   },
   "file_extension": ".py",
   "mimetype": "text/x-python",
   "name": "python",
   "nbconvert_exporter": "python",
   "pygments_lexer": "ipython3",
   "version": "3.13.1"
  }
 },
 "nbformat": 4,
 "nbformat_minor": 5
}
